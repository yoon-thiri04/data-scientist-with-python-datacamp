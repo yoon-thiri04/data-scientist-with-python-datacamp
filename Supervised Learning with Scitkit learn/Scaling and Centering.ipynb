{
 "cells": [
  {
   "cell_type": "code",
   "execution_count": 18,
   "id": "3478b91d",
   "metadata": {},
   "outputs": [
    {
     "name": "stdout",
     "output_type": "stream",
     "text": [
      "Test Score: 0.16858192854341358\n",
      "Predictions: [0.03853593 0.00349638 0.11759692 ... 0.20032171 0.00480765 0.2608903 ]\n",
      "Best Parameters: {'alpha': 1.0}\n",
      "Best Cross-Validation Score: 0.14165822178691212\n"
     ]
    }
   ],
   "source": [
    "from sklearn.preprocessing import StandardScaler\n",
    "from sklearn.model_selection import train_test_split, GridSearchCV\n",
    "from sklearn.linear_model import Ridge\n",
    "import numpy as np\n",
    "import pandas as pd\n",
    "\n",
    "# Load the dataset\n",
    "music_df = pd.read_csv('music.csv')\n",
    "\n",
    "# Create dummy variables for 'genre'\n",
    "music_dummies = pd.get_dummies(music_df['genre'], drop_first=True).astype(int)\n",
    "music_df = pd.concat([music_df, music_dummies], axis=1)\n",
    "\n",
    "# Drop the original 'genre' column\n",
    "music_df.drop('genre', axis=1, inplace=True)\n",
    "\n",
    "# Features (X) and target (y)\n",
    "X = music_df.drop('instrumentalness', axis=1).values\n",
    "y = music_df['instrumentalness'].values\n",
    "\n",
    "# Ensure X is a 2D array\n",
    "if X.ndim == 1:\n",
    "    X = X.reshape(-1, 1)\n",
    "\n",
    "# Split the data before scaling to prevent data leakage\n",
    "X_train, X_test, y_train, y_test = train_test_split(X, y, test_size=0.3, random_state=43)\n",
    "\n",
    "# Instantiate scaler\n",
    "scaler = StandardScaler()\n",
    "\n",
    "# Fit and transform the train set with the scaler\n",
    "X_train_scaled = scaler.fit_transform(X_train)\n",
    "\n",
    "# Transform the test set with the same scaler\n",
    "X_test_scaled = scaler.transform(X_test)\n",
    "\n",
    "# Ridge Regression\n",
    "ridge = Ridge()\n",
    "\n",
    "# Hyperparameter tuning using GridSearchCV\n",
    "params_grid = {\"alpha\": np.linspace(0.00001, 1, 20)}\n",
    "ridge_cv = GridSearchCV(ridge, params_grid)\n",
    "ridge_cv.fit(X_train_scaled, y_train)\n",
    "\n",
    "# Evaluate the model\n",
    "print(\"Test Score:\", ridge_cv.score(X_test_scaled, y_test))\n",
    "print(\"Predictions:\", ridge_cv.predict(X_test_scaled))\n",
    "\n",
    "# Best parameters and score from GridSearchCV\n",
    "print(\"Best Parameters:\", ridge_cv.best_params_)\n",
    "print(\"Best Cross-Validation Score:\", ridge_cv.best_score_)\n"
   ]
  },
  {
   "cell_type": "code",
   "execution_count": 26,
   "id": "31651c35",
   "metadata": {},
   "outputs": [
    {
     "name": "stdout",
     "output_type": "stream",
     "text": [
      "0.16858192854341358\n"
     ]
    }
   ],
   "source": [
    "from sklearn.pipeline import Pipeline\n",
    "from sklearn.linear_model import Ridge\n",
    "\n",
    "# Assuming X and y are already defined\n",
    "\n",
    "pipeline = Pipeline([\n",
    "    (\"scaler\", StandardScaler()),\n",
    "    (\"ridge\", Ridge())\n",
    "])\n",
    "\n",
    "parameters = {\"ridge__alpha\": np.linspace(0.001, 1.0, 20)}  # Regularization parameter for Ridge\n",
    "cv = GridSearchCV(pipeline, param_grid=parameters)\n",
    "cv.fit(X_train, y_train)\n",
    "\n",
    "print(cv.score(X_test, y_test))\n"
   ]
  },
  {
   "cell_type": "code",
   "execution_count": null,
   "id": "a561df2c",
   "metadata": {},
   "outputs": [],
   "source": []
  }
 ],
 "metadata": {
  "kernelspec": {
   "display_name": "Python 3 (ipykernel)",
   "language": "python",
   "name": "python3"
  },
  "language_info": {
   "codemirror_mode": {
    "name": "ipython",
    "version": 3
   },
   "file_extension": ".py",
   "mimetype": "text/x-python",
   "name": "python",
   "nbconvert_exporter": "python",
   "pygments_lexer": "ipython3",
   "version": "3.11.5"
  }
 },
 "nbformat": 4,
 "nbformat_minor": 5
}
