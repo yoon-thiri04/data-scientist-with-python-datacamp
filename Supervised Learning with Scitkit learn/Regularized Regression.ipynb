{
 "cells": [
  {
   "cell_type": "code",
   "execution_count": 1,
   "id": "c2bdca24",
   "metadata": {},
   "outputs": [
    {
     "name": "stdout",
     "output_type": "stream",
     "text": [
      "[192672.49025168  54370.97636771  50258.88169044]\n",
      "[186460.88274191  56200.12907878  53777.44179536]\n",
      "[154661.80215552  73117.71106269  72797.18489204]\n",
      "[115914.21226801  98672.35503884  98628.40620306]\n",
      "[106842.80475264 104901.49819436 104896.52773655]\n",
      "[0.9802180013878948, 0.9626730987619432, 0.7580763190865036, 0.20449442700645004, 0.023777103456299242]\n"
     ]
    }
   ],
   "source": [
    "#Types of Regularized Regression - Ridge Regresssion, Lasso Regression\n",
    "# - To penalize larger positive or negative coef\n",
    "\n",
    "#Ridge Regression - alpha (need to specify) => 0 (overfitting) , => larger (underfitting)->getting worse\n",
    "#Loss function= OLS loss functioon  + alpha* i=1 to n (ai)^2\n",
    "\n",
    "import pandas as pd\n",
    "from sklearn.linear_model import Ridge\n",
    "from sklearn.model_selection import train_test_split\n",
    "import matplotlib.pyplot as plt\n",
    "from sklearn.preprocessing import StandardScaler\n",
    "\n",
    "data = {\n",
    "    'tv': [13000.0, 41000.0, 23000.0, 54000.0, 12000.0],\n",
    "    'radio': [9237.76, 15886.45, 10500.34, 12000.56, 8500.23],\n",
    "    'social_media': [2409.57, 2913.41, 3100.89, 4300.45, 2000.56],\n",
    "    'sales': [46677.90, 150177.83, 89000.50, 210000.75, 35000.40]\n",
    "}\n",
    "new_data = {\n",
    "    'tv': [35000.0, 15000.0, 30000.0, 50000.0, 18000.0],\n",
    "    'radio': [11000.34, 7200.87, 13300.56, 9500.34, 8800.65],\n",
    "    'social_media': [3200.56, 2700.45, 4100.67, 3700.78, 2200.45],\n",
    "    'sales': [120000.50, 45000.75, 134000.80, 165000.90, 57000.45]\n",
    "}\n",
    "\n",
    "# Combine original data and new data\n",
    "for key in data.keys():\n",
    "    data[key].extend(new_data[key])\n",
    "\n",
    "sales_df=pd.DataFrame(data)\n",
    "X=sales_df.drop('sales',axis=1).values\n",
    "y=sales_df['sales'].values\n",
    "\n",
    "X_train,X_test,y_train,y_test=train_test_split(X,y, test_size=0.3, random_state=43)\n",
    "\n",
    "# Instantiate standard scaler\n",
    "scaler=StandardScaler()\n",
    "# Fit and Transform the scaler in training and test data\n",
    "X_train_scaled=scaler.fit_transform(X_train)\n",
    "X_test_scaled=scaler.transform(X_test)\n",
    "\n",
    "\n",
    "scores=[]\n",
    "for alpha in [0.1,1.0,10.0,100.0,1000.0]:\n",
    "    ridge=Ridge(alpha=alpha)\n",
    "    ridge.fit(X_train_scaled,y_train)\n",
    "    y_pred=ridge.predict(X_test_scaled)\n",
    "    scores.append(ridge.score(X_test_scaled,y_test))\n",
    "    print(y_pred)\n",
    "    \n",
    "print(scores)"
   ]
  },
  {
   "cell_type": "code",
   "execution_count": 2,
   "id": "875829d1",
   "metadata": {},
   "outputs": [
    {
     "name": "stdout",
     "output_type": "stream",
     "text": [
      "[193450.29596748  54218.39623818  49808.64569091]\n",
      "[193448.91256406  54219.73656196  49809.47161613]\n",
      "[193441.51758469  54225.99246245  49816.23937359]\n",
      "[193432.27386048  54233.81233807  49824.69907041]\n",
      "[193423.03013626  54241.63221368  49833.15876722]\n",
      "[193413.78641205  54249.4520893   49841.61846404]\n",
      "[193404.54268783  54257.27196492  49850.07816086]\n",
      "[193395.29896362  54265.09184053  49858.53785768]\n",
      "[0.9819938139539519, 0.9819910796727529, 0.9819748184799858, 0.9819544687884244, 0.9819340933184159, 0.98191369206996, 0.9818932650430571, 0.9818728122377068]\n"
     ]
    }
   ],
   "source": [
    "#Lasso Regression -> Loss function= OLS loss Function+ alpha*i=1 to n |ai|\n",
    "\n",
    "from sklearn.linear_model import Lasso\n",
    "\n",
    "scores=[]\n",
    "for alpha in [0.1,1.0,5.0,10.0,15.0,20.0,25.0,30.0]:\n",
    "    lasso=Lasso(alpha= alpha)\n",
    "    lasso.fit(X_train_scaled,y_train)\n",
    "    y_pred=lasso.predict(X_test_scaled)\n",
    "    print(y_pred)\n",
    "    scores.append(lasso.score(X_test_scaled,y_test))\n",
    "    \n",
    "print(scores)"
   ]
  },
  {
   "cell_type": "code",
   "execution_count": 3,
   "id": "fa0b8535",
   "metadata": {},
   "outputs": [
    {
     "data": {
      "image/png": "[encoded data removed]",
      "text/plain": [
       "<Figure size 640x480 with 1 Axes>"
      ]
     },
     "metadata": {},
     "output_type": "display_data"
    }
   ],
   "source": [
    "# Lasso Regression for feature selection\n",
    "# Lasso can select important features of a dataset => Shrink the coef of less important features to 0\n",
    "\n",
    "lasso=Lasso(alpha=0.1)\n",
    "names=sales_df.drop('sales',axis=1).columns\n",
    "lasso_coef= lasso.fit(X_train_scaled,y_train).coef_\n",
    "\n",
    "plt.bar(names,lasso_coef) #which are important\n",
    "plt.xticks(rotation=45)\n",
    "plt.show()"
   ]
  },
  {
   "cell_type": "code",
   "execution_count": null,
   "id": "08ed325d",
   "metadata": {},
   "outputs": [],
   "source": []
  }
 ],
 "metadata": {
  "kernelspec": {
   "display_name": "Python 3 (ipykernel)",
   "language": "python",
   "name": "python3"
  },
  "language_info": {
   "codemirror_mode": {
    "name": "ipython",
    "version": 3
   },
   "file_extension": ".py",
   "mimetype": "text/x-python",
   "name": "python",
   "nbconvert_exporter": "python",
   "pygments_lexer": "ipython3",
   "version": "3.11.5"
  }
 },
 "nbformat": 4,
 "nbformat_minor": 5
}
