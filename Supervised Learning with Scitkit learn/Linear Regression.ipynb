{
 "cells": [
  {
   "cell_type": "code",
   "execution_count": 1,
   "id": "179a6dcb",
   "metadata": {},
   "outputs": [
    {
     "name": "stdout",
     "output_type": "stream",
     "text": [
      "(10, 3) (10,)\n"
     ]
    }
   ],
   "source": [
    "import pandas as pd\n",
    "\n",
    "data = {\n",
    "    'tv': [13000.0, 41000.0, 23000.0, 54000.0, 12000.0],\n",
    "    'radio': [9237.76, 15886.45, 10500.34, 12000.56, 8500.23],\n",
    "    'social_media': [2409.57, 2913.41, 3100.89, 4300.45, 2000.56],\n",
    "    'sales': [46677.90, 150177.83, 89000.50, 210000.75, 35000.40]\n",
    "}\n",
    "new_data = {\n",
    "    'tv': [35000.0, 15000.0, 30000.0, 50000.0, 18000.0],\n",
    "    'radio': [11000.34, 7200.87, 13300.56, 9500.34, 8800.65],\n",
    "    'social_media': [3200.56, 2700.45, 4100.67, 3700.78, 2200.45],\n",
    "    'sales': [120000.50, 45000.75, 134000.80, 165000.90, 57000.45]\n",
    "}\n",
    "\n",
    "# Combine original data and new data\n",
    "for key in data.keys():\n",
    "    data[key].extend(new_data[key])\n",
    "\n",
    "sales_df=pd.DataFrame(data)\n",
    "\n",
    "#Creating features(X) and target array(y)\n",
    "X=sales_df.drop(\"sales\",axis=1).values\n",
    "y=sales_df[\"sales\"].values\n",
    "\n",
    "print(X.shape,y.shape)\n",
    "\n",
    "#make valid shape for X\n",
    "\n",
    "#X.shape"
   ]
  },
  {
   "cell_type": "code",
   "execution_count": 2,
   "id": "43e990ee",
   "metadata": {},
   "outputs": [
    {
     "name": "stdout",
     "output_type": "stream",
     "text": [
      "Predictions :[180018.88017437 171859.6305146 ], Actual Values:[165000.9  150177.83]\n"
     ]
    }
   ],
   "source": [
    "#Building a linear regression\n",
    "from sklearn.linear_model import LinearRegression\n",
    "from sklearn.model_selection import train_test_split\n",
    "from sklearn.preprocessing import StandardScaler\n",
    "\n",
    "X_train,X_test,y_train,y_test=train_test_split(X,y, test_size=0.3, random_state=42)\n",
    "scaler =StandardScaler()\n",
    "\n",
    "X_train_scaled= scaler.fit_transform(X_train)\n",
    "X_test_scaled= scaler.transform(X_test)\n",
    "\n",
    "reg=LinearRegression()\n",
    "reg.fit(X_train_scaled, y_train)\n",
    "y_pred=reg.predict(X_test_scaled)\n",
    "\n",
    "print(\"Predictions :{}, Actual Values:{}\".format(y_pred[:2], y_test[:2]))\n"
   ]
  },
  {
   "cell_type": "code",
   "execution_count": 4,
   "id": "a2a0a7c8",
   "metadata": {},
   "outputs": [
    {
     "name": "stdout",
     "output_type": "stream",
     "text": [
      "R^2: 0.18575115703404943\n",
      "RMSE: 16896.106573466062\n"
     ]
    }
   ],
   "source": [
    "#computing model performance\n",
    "\n",
    "from sklearn.metrics import mean_squared_error, r2_score\n",
    "\n",
    "r_squared=reg.score(X_test_scaled, y_test)\n",
    "\n",
    "# or r2_score(X_test,y_test)\n",
    "\n",
    "rmse=mean_squared_error(y_test, y_pred, squared=False)\n",
    "\n",
    "print(\"R^2: {}\".format(r_squared))\n",
    "print(\"RMSE: {}\".format(rmse))"
   ]
  },
  {
   "cell_type": "code",
   "execution_count": 6,
   "id": "30f6b9b8",
   "metadata": {},
   "outputs": [
    {
     "name": "stdout",
     "output_type": "stream",
     "text": [
      "[ 0.97520242  0.98746319 -1.30361043  0.97468952  0.9769909 ]\n",
      "Mean : 0.5221471192252671, Standard deviation : 0.9128906051930629, 95% confident interval [-1.07578044  0.98641596]\n"
     ]
    }
   ],
   "source": [
    "#Cross-validation for more accuracy of performance on test set\n",
    "import numpy as np\n",
    "from sklearn.model_selection import KFold, cross_val_score\n",
    "kf= KFold(n_splits=5, shuffle=True, random_state=5)\n",
    "cv_result=cross_val_score(reg, X,y , cv=kf)\n",
    "print(cv_result)\n",
    "print(\"Mean : {}, Standard deviation : {}, 95% confident interval {}\".format(np.mean(cv_result), np.std(cv_result), np.quantile(cv_result, [0.025, 0.975])))"
   ]
  },
  {
   "cell_type": "code",
   "execution_count": null,
   "id": "63a300c8",
   "metadata": {},
   "outputs": [],
   "source": []
  }
 ],
 "metadata": {
  "kernelspec": {
   "display_name": "Python 3 (ipykernel)",
   "language": "python",
   "name": "python3"
  },
  "language_info": {
   "codemirror_mode": {
    "name": "ipython",
    "version": 3
   },
   "file_extension": ".py",
   "mimetype": "text/x-python",
   "name": "python",
   "nbconvert_exporter": "python",
   "pygments_lexer": "ipython3",
   "version": "3.11.5"
  }
 },
 "nbformat": 4,
 "nbformat_minor": 5
}
