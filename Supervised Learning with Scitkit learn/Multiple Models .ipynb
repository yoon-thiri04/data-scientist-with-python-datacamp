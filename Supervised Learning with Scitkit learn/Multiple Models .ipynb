{
 "cells": [
  {
   "cell_type": "code",
   "execution_count": null,
   "id": "54320204",
   "metadata": {},
   "outputs": [],
   "source": [
    "import matplotlib.pyplot as plt\n",
    "from sklearn.preprocessing import StandardScaler, LabelEncoder\n",
    "from sklearn.linear_model import LogisticRegression\n",
    "from sklearn.model_selection import train_test_split, cross_val_score, KFold\n",
    "from sklearn.neighbors import KNeighborsClassifier\n",
    "from sklearn.tree import DecisionTreeClassifier\n",
    "import pandas as pd\n",
    "\n",
    "music_df= pd.read_csv('music.csv')\n",
    "\n",
    "# Encode the target variable\n",
    "le = LabelEncoder()\n",
    "y = le.fit_transform(music_df['genre'])\n",
    "\n",
    "# get dummies\n",
    "X = pd.get_dummies(music_df.drop('genre'),axis=1).values\n",
    "if X.ndim == 1:\n",
    "    X = X.reshape(-1, 1)\n",
    "\n",
    "X_train,X_test, y_train, y_test= train_test_split(X, y, test_size=0.3, random_state=42)\n",
    "\n",
    "scaler= StandardScaler()\n",
    "X_train_scaled= scaler.fit_transform(X_train)\n",
    "X_test_scaled= scaler.transform(X_test)\n",
    "\n",
    "models ={\n",
    "    \"Logistic Regression\": LogisticRegression(solver='saga', max_iter=500),\n",
    "    \"KNN\": KNeighborsClassifier(),\n",
    "    \"Decision Tree\": DecisionTreeClassifier()\n",
    "}\n",
    "result=[]\n",
    "for model in models.values():\n",
    "    kf= KFold(n_splits=6, random_state=42, shuffle=True)\n",
    "    cv=cross_val_score(model, X_train_scaled, y_train, cv=kf)\n",
    "    result.append(cv)\n",
    "    \n",
    "plt.boxplot(result, labels=models.keys())\n",
    "plt.show()\n"
   ]
  },
  {
   "cell_type": "code",
   "execution_count": null,
   "id": "e7816b4e",
   "metadata": {},
   "outputs": [],
   "source": [
    "from sklearn.metrics import mean_squared_error\n",
    "for name, model in models.items():\n",
    "    model.fit(X_train_scaled, y_train)\n",
    "    y_pred=model.predict(X_test_scaled)\n",
    "    print(f\"{name}'s Accuracy is {model.score(X_test_scaled, y_test)}\")\n",
    "    print(f\"{name}'s rmse is {mean_squared_error(y_test, y_pred, squared=False)}')"
   ]
  },
  {
   "cell_type": "code",
   "execution_count": null,
   "id": "5df006ac",
   "metadata": {},
   "outputs": [],
   "source": [
    "\n",
    "\n"
   ]
  }
 ],
 "metadata": {
  "kernelspec": {
   "display_name": "Python 3 (ipykernel)",
   "language": "python",
   "name": "python3"
  },
  "language_info": {
   "codemirror_mode": {
    "name": "ipython",
    "version": 3
   },
   "file_extension": ".py",
   "mimetype": "text/x-python",
   "name": "python",
   "nbconvert_exporter": "python",
   "pygments_lexer": "ipython3",
   "version": "3.11.5"
  }
 },
 "nbformat": 4,
 "nbformat_minor": 5
}
