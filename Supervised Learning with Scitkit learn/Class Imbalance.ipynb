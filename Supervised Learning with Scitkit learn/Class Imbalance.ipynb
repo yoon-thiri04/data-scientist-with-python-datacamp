{
 "cells": [
  {
   "cell_type": "code",
   "execution_count": null,
   "id": "d4edd747",
   "metadata": {},
   "outputs": [],
   "source": [
    "\"\"\"\n",
    "Class Imbalance : Uneven Frequency of Classes\n",
    "Need a diff way to access(evaluate) Performance of Classification Instead of 'Accuray'\n",
    "\n",
    "True Positive (TP): Correctly identified positive cases.\n",
    "True Negative (TN): Correctly identified negative cases.\n",
    "False Positive (FP): Incorrectly identified positive cases (should have been negative).\n",
    "False Negative (FN): Incorrectly identified negative cases (should have been positive). \n",
    "\n",
    "Accuracy Formula ==> TP+TN/TP+TN+FP+FN\n",
    "\n",
    "Diff ways of evaluating the performance of a classification model. \n",
    "\n",
    "1. Precision ==> Precision is the ratio of correctly predicted positive observations to the total predicted positives.\n",
    "\n",
    "Formula ===> TP/ TP+ FP\n",
    "--> To reduce false positives.\n",
    "--> High precision means that when the model predicts a positive class, it is often correct.\n",
    "--> Precision focuses on the quality of the positive predictions, minimizing false positives.\n",
    "\n",
    "2. Recall ==> Recall (also known as sensitivity or true positive rate) is \n",
    "              the ratio of correctly predicted positive observations to all the actual positives.\n",
    "              \n",
    "Formula ===> TP/ TP+FN\n",
    "--> To reduce false neg.\n",
    "--> High recall means that the model identifies most of the positive instances.\n",
    "--> Recall focuses on capturing all actual positives, minimizing false negatives.\n",
    "\n",
    "3. F1 Scores ==> A metric that combines 'precision' and 'recall' into a single metric by calculating their harmonic mean. \n",
    "\n",
    "Formula ===> 2* (precision*recall/ precision+recall)\n",
    "---> Especially useful when the two metrics are not equally important or \n",
    "     when one metric alone does not provide a complete picture of model performance.\n",
    "---> High F1-Score: Indicates a good balance between precision and recall, meaning the model is effectively \n",
    "     identifying positive cases while minimizing both false positives and false negatives.\n",
    "     \n",
    "\n",
    "\"\"\""
   ]
  },
  {
   "cell_type": "code",
   "execution_count": 3,
   "id": "5496b2de",
   "metadata": {},
   "outputs": [
    {
     "name": "stdout",
     "output_type": "stream",
     "text": [
      "[[135  17]\n",
      " [ 49  30]]\n",
      "              precision    recall  f1-score   support\n",
      "\n",
      "           0       0.73      0.89      0.80       152\n",
      "           1       0.64      0.38      0.48        79\n",
      "\n",
      "    accuracy                           0.71       231\n",
      "   macro avg       0.69      0.63      0.64       231\n",
      "weighted avg       0.70      0.71      0.69       231\n",
      "\n",
      "0.4805194805194805\n"
     ]
    }
   ],
   "source": [
    "#Predicting a person has diabetes or not basing on BMI and Age (Binary Classification)\n",
    "from sklearn.neighbors import KNeighborsClassifier\n",
    "from sklearn.model_selection import train_test_split\n",
    "from sklearn.metrics import confusion_matrix, classification_report\n",
    "from sklearn.preprocessing import StandardScaler\n",
    "import pandas as pd\n",
    "\n",
    "diabetes_df=pd.read_csv('diabetes.csv')\n",
    "X=diabetes_df[['BMI','Age']].values\n",
    "y=diabetes_df['Outcome'].values\n",
    "\n",
    "X_train,X_test,y_train,y_test=train_test_split(X,y, test_size=0.3, random_state=43)\n",
    "# Instantiate the scaler\n",
    "scaler=StandardScaler()\n",
    "X_train_scaled=scaler.fit_transform(X_train)\n",
    "X_test_scaled=scaler.fit_transform(X_test)\n",
    "knn=KNeighborsClassifier(n_neighbors=6)\n",
    "knn.fit(X_train_scaled,y_train)\n",
    "y_pred=knn.predict(X_test_scaled)\n",
    "#print(y_pred)\n",
    "print(confusion_matrix(y_test,y_pred))\n",
    "print(classification_report(y_test,y_pred))\n",
    "print(knn.score(X_test,y_test))"
   ]
  },
  {
   "cell_type": "code",
   "execution_count": null,
   "id": "5c2596c6",
   "metadata": {},
   "outputs": [],
   "source": [
    "\"\"\"\n",
    "-->The model is better at identifying class 0 (no diabetes) than class 1 (diabetes),\n",
    "as indicated by the higher precision, recall, and F1-score for class 0.\n",
    "\n",
    "-->The recall for class 1 (diabetes) is relatively low (0.48), \n",
    "meaning the model is missing a significant number of actual positive cases (diabetes).\n",
    "\n",
    "-->The precision for class 1 (diabetes) is also moderate, \n",
    "meaning that when the model predicts diabetes, it is correct about 64% of the time.\n",
    "\n",
    "\"\"\""
   ]
  }
 ],
 "metadata": {
  "kernelspec": {
   "display_name": "Python 3 (ipykernel)",
   "language": "python",
   "name": "python3"
  },
  "language_info": {
   "codemirror_mode": {
    "name": "ipython",
    "version": 3
   },
   "file_extension": ".py",
   "mimetype": "text/x-python",
   "name": "python",
   "nbconvert_exporter": "python",
   "pygments_lexer": "ipython3",
   "version": "3.11.5"
  }
 },
 "nbformat": 4,
 "nbformat_minor": 5
}
