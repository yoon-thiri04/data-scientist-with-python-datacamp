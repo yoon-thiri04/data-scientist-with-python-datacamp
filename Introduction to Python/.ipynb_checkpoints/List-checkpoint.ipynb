{
 "cells": [
  {
   "cell_type": "code",
   "execution_count": 1,
   "id": "04e2a2cc",
   "metadata": {},
   "outputs": [
    {
     "name": "stdout",
     "output_type": "stream",
     "text": [
      "[['Emma', 30], ['Daisy', 20], ['Evenlyn', 19]]\n"
     ]
    }
   ],
   "source": [
    "list=[['Emma',30],['Daisy',20],['Evenlyn',19]]\n",
    "print(list)"
   ]
  },
  {
   "cell_type": "code",
   "execution_count": 4,
   "id": "ba910aba",
   "metadata": {},
   "outputs": [
    {
     "name": "stdout",
     "output_type": "stream",
     "text": [
      "['Emma', 30]\n",
      "['Daisy', 20]\n",
      "['Evenlyn', 19]\n"
     ]
    }
   ],
   "source": [
    "for l in list:\n",
    "    print(l)\n",
    "       "
   ]
  },
  {
   "cell_type": "code",
   "execution_count": 42,
   "id": "e6264c6c",
   "metadata": {},
   "outputs": [
    {
     "name": "stdout",
     "output_type": "stream",
     "text": [
      "28.75\n",
      "['hallway', 11.25, 'kitchen', 18.0, 'living room', 20.0, 'bedroom', 10.75, 'bathroom', 9.5, 'poolhouse', 34.5]\n"
     ]
    }
   ],
   "source": [
    "areas=[\"hallway\", 11.25, \"kitchen\", 18.0, \"living room\", 20.0, \"bedroom\", 10.75, \"bathroom\", 9.50]\n",
    "\n",
    "eat_sleep_area=areas[3]+areas[7]\n",
    "print(eat_sleep_area)\n",
    "areas=areas+['poolhouse',34.5]\n",
    "\n",
    "print(areas)"
   ]
  },
  {
   "cell_type": "code",
   "execution_count": 4,
   "id": "c470f690",
   "metadata": {},
   "outputs": [
    {
     "name": "stdout",
     "output_type": "stream",
     "text": [
      "['hallway', 11.25, 'kitchen', 18.0, 'living room', 20.0]\n",
      "['bedroom', 10.75, 'bathroom', 9.5]\n",
      "['hallway', 11.25, 'kitchen', 18.0, 'living room', 20.0, 'bedroom', 10.75, 'bathroom', 9.5]\n"
     ]
    }
   ],
   "source": [
    "downstairs=areas[:6] #The first 6\n",
    "upstairs=areas[-4:] #The last 4\n",
    "print(downstairs)\n",
    "print(upstairs)\n",
    "print(areas[:]) # from begin to end\n"
   ]
  },
  {
   "cell_type": "code",
   "execution_count": 10,
   "id": "9a1700ec",
   "metadata": {},
   "outputs": [],
   "source": [
    "house=[['bathroom',2.4],['kitchen',8.9],['bedroom',4.5]]"
   ]
  },
  {
   "cell_type": "code",
   "execution_count": 14,
   "id": "8d2a143e",
   "metadata": {},
   "outputs": [
    {
     "name": "stdout",
     "output_type": "stream",
     "text": [
      "The area of the bedroom is 4.5\n"
     ]
    }
   ],
   "source": [
    "print(f\"The area of the bedroom is {house[-1][1]}\")"
   ]
  },
  {
   "cell_type": "code",
   "execution_count": 36,
   "id": "d9058650",
   "metadata": {},
   "outputs": [
    {
     "name": "stdout",
     "output_type": "stream",
     "text": [
      "[1, 2, 3]\n",
      "[2, 2, 3]\n",
      "[1, 2, 3]\n"
     ]
    }
   ],
   "source": [
    "list_x=[1,2,3]\n",
    "y=list(list_x)\n",
    "print(y)\n",
    "y[0]=2\n",
    "print(y)\n",
    "print(list_x)"
   ]
  },
  {
   "cell_type": "code",
   "execution_count": 38,
   "id": "d3e055c4",
   "metadata": {},
   "outputs": [
    {
     "name": "stdout",
     "output_type": "stream",
     "text": [
      "[2, 2, 3]\n",
      "[2, 4, 3]\n",
      "[2, 2, 3]\n"
     ]
    }
   ],
   "source": [
    "k=y[:]\n",
    "print(k)\n",
    "k[1]=4\n",
    "print(k)\n",
    "print(y)"
   ]
  },
  {
   "cell_type": "code",
   "execution_count": 39,
   "id": "adf15fd3",
   "metadata": {},
   "outputs": [
    {
     "name": "stdout",
     "output_type": "stream",
     "text": [
      "[4, 3]\n"
     ]
    }
   ],
   "source": [
    "del(k[0])\n",
    "print(k)\n",
    "#del(k[0]);del(k[9])\n",
    "#del(k[:3])"
   ]
  },
  {
   "cell_type": "code",
   "execution_count": 43,
   "id": "dfef5752",
   "metadata": {},
   "outputs": [
    {
     "name": "stdout",
     "output_type": "stream",
     "text": [
      "9\n",
      "2\n"
     ]
    }
   ],
   "source": [
    "height=[9,7,5,3,2]\n",
    "tallest=max(height)\n",
    "print(tallest)\n",
    "\n",
    "shortest=min(height)\n",
    "print(shortest)"
   ]
  },
  {
   "cell_type": "code",
   "execution_count": 53,
   "id": "76d4a645",
   "metadata": {},
   "outputs": [
    {
     "data": {
      "text/plain": [
       "8"
      ]
     },
     "execution_count": 53,
     "metadata": {},
     "output_type": "execute_result"
    }
   ],
   "source": [
    "#round function has two parameters like , the number you want to rount and then how much you would round that number\n",
    "float=7.9867890\n",
    "round(float)"
   ]
  },
  {
   "cell_type": "code",
   "execution_count": 54,
   "id": "eab48906",
   "metadata": {},
   "outputs": [
    {
     "name": "stdout",
     "output_type": "stream",
     "text": [
      "4.56667\n"
     ]
    }
   ],
   "source": [
    "float2=4.5666666666\n",
    "print(round(float2,5))"
   ]
  },
  {
   "cell_type": "code",
   "execution_count": 55,
   "id": "b5c16b45",
   "metadata": {},
   "outputs": [
    {
     "name": "stdout",
     "output_type": "stream",
     "text": [
      "Help on built-in function round in module builtins:\n",
      "\n",
      "round(number, ndigits=None)\n",
      "    Round a number to a given precision in decimal digits.\n",
      "    \n",
      "    The return value is an integer if ndigits is omitted or None.  Otherwise\n",
      "    the return value has the same type as the number.  ndigits may be negative.\n",
      "\n"
     ]
    }
   ],
   "source": [
    "help(round)"
   ]
  },
  {
   "cell_type": "code",
   "execution_count": 57,
   "id": "09c9c4e5",
   "metadata": {},
   "outputs": [],
   "source": [
    "?round"
   ]
  },
  {
   "cell_type": "code",
   "execution_count": 59,
   "id": "c349d4d0",
   "metadata": {},
   "outputs": [
    {
     "data": {
      "text/plain": [
       "3"
      ]
     },
     "execution_count": 59,
     "metadata": {},
     "output_type": "execute_result"
    }
   ],
   "source": [
    "pow(2,3,5)"
   ]
  },
  {
   "cell_type": "code",
   "execution_count": 67,
   "id": "606d2804",
   "metadata": {},
   "outputs": [
    {
     "name": "stdout",
     "output_type": "stream",
     "text": [
      "['classroom', 'evening', 'morning', 'date']\n",
      "['classroom', 'date', 'evening', 'morning']\n"
     ]
    }
   ],
   "source": [
    "word=['evening','morning','classroom','date']\n",
    "word_sorted=sorted(word,key=len,reverse=True)\n",
    "print(word_sorted)\n",
    "word_sorted=sorted(word,key=lambda x:x)\n",
    "print(word_sorted)"
   ]
  },
  {
   "cell_type": "code",
   "execution_count": 66,
   "id": "c00f08f8",
   "metadata": {},
   "outputs": [
    {
     "name": "stdout",
     "output_type": "stream",
     "text": [
      "[(4, 3), (8, 2), (3, 1), (5, 0)]\n"
     ]
    }
   ],
   "source": [
    "data=[(3,1),(4,3),(5,0),(8,2)]\n",
    "data_sorted=sorted(data,key=lambda x:x[1],reverse=False)\n",
    "print(data_sorted)"
   ]
  },
  {
   "cell_type": "code",
   "execution_count": 71,
   "id": "d7ef03d4",
   "metadata": {},
   "outputs": [
    {
     "name": "stdout",
     "output_type": "stream",
     "text": [
      "[{'name': 'hla', 'age': 30}, {'name': 'nyan', 'age': 26}, {'name': 'aung', 'age': 20}, {'name': 'yoon', 'age': 19}]\n"
     ]
    }
   ],
   "source": [
    "people=[\n",
    "    {\n",
    "        'name':'yoon',\n",
    "        'age':19\n",
    "    },\n",
    "    {\n",
    "        'name':'hla',\n",
    "        'age':30\n",
    "    },\n",
    "    {\n",
    "        'name':'aung',\n",
    "        'age':20\n",
    "    },\n",
    "    {\n",
    "        'name':'nyan',\n",
    "        'age':26\n",
    "    }\n",
    "]\n",
    "\n",
    "sort_with_age=sorted(people,key=lambda x:x['age'],reverse=True)\n",
    "print(sort_with_age)"
   ]
  },
  {
   "cell_type": "code",
   "execution_count": 77,
   "id": "385ddfca",
   "metadata": {},
   "outputs": [
    {
     "name": "stdout",
     "output_type": "stream",
     "text": [
      "POOLHOUSE\n",
      "3\n",
      "peelhouse\n",
      "5\n"
     ]
    }
   ],
   "source": [
    "place=\"poolhouse\"\n",
    "print(place.upper())\n",
    "print(place.count('o'))\n",
    "\n",
    "result=place.replace('oo','ee')\n",
    "print(result)\n",
    "\n",
    "print(place.rindex('o'))"
   ]
  },
  {
   "cell_type": "code",
   "execution_count": 78,
   "id": "10f18ab3",
   "metadata": {},
   "outputs": [
    {
     "ename": "TypeError",
     "evalue": "list.append() takes exactly one argument (2 given)",
     "output_type": "error",
     "traceback": [
      "\u001b[1;31m---------------------------------------------------------------------------\u001b[0m",
      "\u001b[1;31mTypeError\u001b[0m                                 Traceback (most recent call last)",
      "Cell \u001b[1;32mIn[78], line 2\u001b[0m\n\u001b[0;32m      1\u001b[0m \u001b[38;5;28mlist\u001b[39m\u001b[38;5;241m=\u001b[39m[\u001b[38;5;124m'\u001b[39m\u001b[38;5;124ma\u001b[39m\u001b[38;5;124m'\u001b[39m]\n\u001b[1;32m----> 2\u001b[0m \u001b[38;5;28mlist\u001b[39m\u001b[38;5;241m.\u001b[39mappend(\u001b[38;5;124m'\u001b[39m\u001b[38;5;124mb\u001b[39m\u001b[38;5;124m'\u001b[39m,\u001b[38;5;124m'\u001b[39m\u001b[38;5;124mc\u001b[39m\u001b[38;5;124m'\u001b[39m)\n",
      "\u001b[1;31mTypeError\u001b[0m: list.append() takes exactly one argument (2 given)"
     ]
    }
   ],
   "source": []
  },
  {
   "cell_type": "code",
   "execution_count": null,
   "id": "6c78630a",
   "metadata": {},
   "outputs": [],
   "source": []
  }
 ],
 "metadata": {
  "kernelspec": {
   "display_name": "Python 3 (ipykernel)",
   "language": "python",
   "name": "python3"
  },
  "language_info": {
   "codemirror_mode": {
    "name": "ipython",
    "version": 3
   },
   "file_extension": ".py",
   "mimetype": "text/x-python",
   "name": "python",
   "nbconvert_exporter": "python",
   "pygments_lexer": "ipython3",
   "version": "3.11.5"
  }
 },
 "nbformat": 4,
 "nbformat_minor": 5
}
