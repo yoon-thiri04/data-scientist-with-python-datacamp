{
 "cells": [
  {
   "cell_type": "code",
   "execution_count": 7,
   "id": "1cf03eba",
   "metadata": {},
   "outputs": [
    {
     "data": {
      "text/plain": [
       "array([3, 4, 5])"
      ]
     },
     "execution_count": 7,
     "metadata": {},
     "output_type": "execute_result"
    }
   ],
   "source": [
    "import numpy as np\n",
    "\n",
    "np.array([3,4,5])"
   ]
  },
  {
   "cell_type": "code",
   "execution_count": 8,
   "id": "bd148da5",
   "metadata": {},
   "outputs": [
    {
     "name": "stdout",
     "output_type": "stream",
     "text": [
      "Circumference of the circle is 22\n",
      "Area of the circle is 37.4\n"
     ]
    }
   ],
   "source": [
    "from math import pi\n",
    "\n",
    "r=3.45\n",
    "C=2*math.pi*r\n",
    "A=math.pi*r**2\n",
    "print(f\"Circumference of the circle is {round(C)}\")\n",
    "print(f\"Area of the circle is {round(A,1)}\")"
   ]
  },
  {
   "cell_type": "code",
   "execution_count": 9,
   "id": "bddb8602",
   "metadata": {},
   "outputs": [
    {
     "name": "stdout",
     "output_type": "stream",
     "text": [
      "Circumference of the circles is21.68\n",
      "Area of the circle is 37\n"
     ]
    }
   ],
   "source": [
    "print(\"Circumference of the circles is\" +str(round(C,2)))\n",
    "print(\"Area of the circle is \"+str(round(A)))"
   ]
  },
  {
   "cell_type": "code",
   "execution_count": 11,
   "id": "3adb7819",
   "metadata": {},
   "outputs": [
    {
     "name": "stdout",
     "output_type": "stream",
     "text": [
      "The distance travelled by the moon over 12 degs of its orbit = 40317.106\n"
     ]
    }
   ],
   "source": [
    "from math import radians\n",
    "\n",
    "r=192500\n",
    "dist=r*radians(12)\n",
    "print(f\"The distance travelled by the moon over 12 degs of its orbit = {round(dist,3)}\")"
   ]
  },
  {
   "cell_type": "code",
   "execution_count": 15,
   "id": "8b8d602d",
   "metadata": {},
   "outputs": [
    {
     "name": "stdout",
     "output_type": "stream",
     "text": [
      "Defaulting to user installation because normal site-packages is not writeable\n",
      "Requirement already satisfied: scipy in c:\\programdata\\anaconda3\\lib\\site-packages (1.11.1)\n",
      "Requirement already satisfied: numpy<1.28.0,>=1.21.6 in c:\\programdata\\anaconda3\\lib\\site-packages (from scipy) (1.24.3)\n"
     ]
    }
   ],
   "source": [
    "!pip install scipy"
   ]
  },
  {
   "cell_type": "code",
   "execution_count": 19,
   "id": "c6c22b77",
   "metadata": {},
   "outputs": [
    {
     "data": {
      "text/plain": [
       "array([[ 2. , -1.5],\n",
       "       [-1. ,  1. ]])"
      ]
     },
     "execution_count": 19,
     "metadata": {},
     "output_type": "execute_result"
    }
   ],
   "source": [
    "from scipy.linalg import inv as my_inv\n",
    "\n",
    "my_inv([[2,3],[2,4]])"
   ]
  },
  {
   "cell_type": "code",
   "execution_count": null,
   "id": "0472d126",
   "metadata": {},
   "outputs": [],
   "source": []
  }
 ],
 "metadata": {
  "kernelspec": {
   "display_name": "Python 3 (ipykernel)",
   "language": "python",
   "name": "python3"
  },
  "language_info": {
   "codemirror_mode": {
    "name": "ipython",
    "version": 3
   },
   "file_extension": ".py",
   "mimetype": "text/x-python",
   "name": "python",
   "nbconvert_exporter": "python",
   "pygments_lexer": "ipython3",
   "version": "3.11.5"
  }
 },
 "nbformat": 4,
 "nbformat_minor": 5
}
