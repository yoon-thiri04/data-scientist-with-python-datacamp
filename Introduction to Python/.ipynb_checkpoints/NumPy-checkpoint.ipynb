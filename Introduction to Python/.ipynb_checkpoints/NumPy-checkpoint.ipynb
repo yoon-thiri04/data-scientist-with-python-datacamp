{
 "cells": [
  {
   "cell_type": "code",
   "execution_count": 7,
   "id": "a5d322be",
   "metadata": {},
   "outputs": [
    {
     "data": {
      "text/plain": [
       "array(['str', '1', 'True'], dtype='<U11')"
      ]
     },
     "execution_count": 7,
     "metadata": {},
     "output_type": "execute_result"
    }
   ],
   "source": [
    "np_array=np.array(['str',1,True])\n",
    "np_array"
   ]
  },
  {
   "cell_type": "code",
   "execution_count": 8,
   "id": "5999df1c",
   "metadata": {},
   "outputs": [
    {
     "data": {
      "text/plain": [
       "[2, 3, 4, 2, 3, 4]"
      ]
     },
     "execution_count": 8,
     "metadata": {},
     "output_type": "execute_result"
    }
   ],
   "source": [
    "py_list=[2,3,4]\n",
    "py_list+py_list"
   ]
  },
  {
   "cell_type": "code",
   "execution_count": 9,
   "id": "290616d6",
   "metadata": {},
   "outputs": [
    {
     "data": {
      "text/plain": [
       "array([4, 6, 8])"
      ]
     },
     "execution_count": 9,
     "metadata": {},
     "output_type": "execute_result"
    }
   ],
   "source": [
    "py_array=np.array([2,3,4])\n",
    "py_array+py_array"
   ]
  },
  {
   "cell_type": "code",
   "execution_count": 4,
   "id": "7df059b0",
   "metadata": {},
   "outputs": [
    {
     "name": "stdout",
     "output_type": "stream",
     "text": [
      "[7.12585449 4.23420397 4.41481481 1.927411   0.62039355]\n",
      "The bmi of the second person is 4.23\n",
      "The bmi of the 4th person is 1.93\n",
      "The person whose height greater than 5 bmi is [2.56]\n",
      " The bmi greater than 4 are [7.12585449 4.23420397 4.41481481]\n"
     ]
    }
   ],
   "source": [
    "import numpy as np\n",
    "\n",
    "height=[2.56,3.78,4.50,6.78,9.56]\n",
    "height_array=np.array(height)\n",
    "\n",
    "weight=[46.7,60.5,89.4,88.6,56.7]\n",
    "weight_array=np.array(weight)\n",
    "\n",
    "bmi=weight_array/height_array**2\n",
    "print(bmi)\n",
    "print(f\"The bmi of the second person is {round(bmi[1],2)}\")\n",
    "print(f\"The bmi of the 4th person is {round(bmi[3],2)}\")\n",
    "print(f\"The person whose height greater than 5 bmi is {height_array[bmi>5]}\")\n",
    "print(f\" The bmi greater than 4 are {bmi[bmi>4]}\")"
   ]
  },
  {
   "cell_type": "code",
   "execution_count": 13,
   "id": "589d34ad",
   "metadata": {},
   "outputs": [
    {
     "data": {
      "text/plain": [
       "array([False, False, False, False, False])"
      ]
     },
     "execution_count": 13,
     "metadata": {},
     "output_type": "execute_result"
    }
   ],
   "source": [
    "bmi>23"
   ]
  },
  {
   "cell_type": "code",
   "execution_count": 21,
   "id": "08fb697b",
   "metadata": {},
   "outputs": [],
   "source": [
    "light=bmi>5"
   ]
  },
  {
   "cell_type": "code",
   "execution_count": 22,
   "id": "2284fac3",
   "metadata": {},
   "outputs": [
    {
     "data": {
      "text/plain": [
       "array([7.12585449])"
      ]
     },
     "execution_count": 22,
     "metadata": {},
     "output_type": "execute_result"
    }
   ],
   "source": [
    "bmi[light]"
   ]
  },
  {
   "cell_type": "code",
   "execution_count": 20,
   "id": "d48e61dc",
   "metadata": {},
   "outputs": [
    {
     "data": {
      "text/plain": [
       "array([7.12585449, 4.23420397, 4.41481481])"
      ]
     },
     "execution_count": 20,
     "metadata": {},
     "output_type": "execute_result"
    }
   ],
   "source": [
    "bmi[bmi>3]"
   ]
  },
  {
   "cell_type": "code",
   "execution_count": 23,
   "id": "d7e91b3d",
   "metadata": {},
   "outputs": [
    {
     "data": {
      "text/plain": [
       "numpy.ndarray"
      ]
     },
     "execution_count": 23,
     "metadata": {},
     "output_type": "execute_result"
    }
   ],
   "source": [
    "type(bmi) #numpy.ndarray means n-dimensional array\n",
    "#bmi and weight/height are one dimensional array"
   ]
  },
  {
   "cell_type": "code",
   "execution_count": 17,
   "id": "4873e2c7",
   "metadata": {},
   "outputs": [
    {
     "data": {
      "text/plain": [
       "array([[ 3,  4,  5,  6,  7],\n",
       "       [ 1,  2,  3,  7,  8],\n",
       "       [ 5,  6,  6,  7, 10]])"
      ]
     },
     "execution_count": 17,
     "metadata": {},
     "output_type": "execute_result"
    }
   ],
   "source": [
    "np_2d=np.array([[3,4,5,6,7],\n",
    "                [1,2,3,7,8],\n",
    "                [5,6,6,7,10]\n",
    "               ])\n",
    "np_2d"
   ]
  },
  {
   "cell_type": "code",
   "execution_count": 19,
   "id": "1bfc50fe",
   "metadata": {},
   "outputs": [
    {
     "data": {
      "text/plain": [
       "(3, 5)"
      ]
     },
     "execution_count": 19,
     "metadata": {},
     "output_type": "execute_result"
    }
   ],
   "source": [
    "np_2d.shape #rows and columns"
   ]
  },
  {
   "cell_type": "code",
   "execution_count": 30,
   "id": "39dfd2ea",
   "metadata": {},
   "outputs": [
    {
     "name": "stdout",
     "output_type": "stream",
     "text": [
      "7\n",
      "7\n",
      "Second person's only 2nd 3rd and 4th number [2 3 7]\n",
      "3rd person's only 4th and 5th number [ 7 10]\n",
      "All person 's 3rd number[5 3 6]\n",
      "All person's 2nd and 3rd number [[4 5]\n",
      " [2 3]\n",
      " [6 6]]\n"
     ]
    }
   ],
   "source": [
    "print(np_2d[0][4])\n",
    "print(np_2d[1][3])\n",
    "np_2d[0][2]\n",
    "np_2d[0,1]\n",
    "np_2d[2,2]\n",
    "np_2d[1,:] #or\n",
    "np_2d[1][:]\n",
    "print(f\"Second person's only 2nd 3rd and 4th number {np_2d[1,1:4]}\")\n",
    "print(f\"3rd person's only 4th and 5th number {np_2d[2][3:]}\")\n",
    "print(f\"All person 's 3rd number{np_2d[:,2]}\")\n",
    "print(f\"All person's 2nd and 3rd number {np_2d[:,1:3]}\")\n"
   ]
  },
  {
   "cell_type": "code",
   "execution_count": 32,
   "id": "c310e714",
   "metadata": {},
   "outputs": [
    {
     "data": {
      "text/plain": [
       "5"
      ]
     },
     "execution_count": 32,
     "metadata": {},
     "output_type": "execute_result"
    }
   ],
   "source": [
    "np_2d[0,2]"
   ]
  },
  {
   "cell_type": "code",
   "execution_count": 33,
   "id": "1392c3b7",
   "metadata": {},
   "outputs": [
    {
     "data": {
      "text/plain": [
       "array([[4, 5],\n",
       "       [2, 3]])"
      ]
     },
     "execution_count": 33,
     "metadata": {},
     "output_type": "execute_result"
    }
   ],
   "source": [
    "np_2d[:,1:3]\n"
   ]
  },
  {
   "cell_type": "code",
   "execution_count": 34,
   "id": "4411b53e",
   "metadata": {},
   "outputs": [
    {
     "data": {
      "text/plain": [
       "array([1, 2, 3, 7, 8])"
      ]
     },
     "execution_count": 34,
     "metadata": {},
     "output_type": "execute_result"
    }
   ],
   "source": [
    "np_2d[1,:]"
   ]
  },
  {
   "cell_type": "code",
   "execution_count": 35,
   "id": "488fa31a",
   "metadata": {},
   "outputs": [
    {
     "data": {
      "text/plain": [
       "array([4, 2])"
      ]
     },
     "execution_count": 35,
     "metadata": {},
     "output_type": "execute_result"
    }
   ],
   "source": [
    "np_2d[:,1]"
   ]
  },
  {
   "cell_type": "code",
   "execution_count": 36,
   "id": "9464cd50",
   "metadata": {},
   "outputs": [
    {
     "data": {
      "text/plain": [
       "array([3, 4, 5, 6, 7])"
      ]
     },
     "execution_count": 36,
     "metadata": {},
     "output_type": "execute_result"
    }
   ],
   "source": [
    "np_2d[0,:]"
   ]
  },
  {
   "cell_type": "code",
   "execution_count": 38,
   "id": "38bfa352",
   "metadata": {},
   "outputs": [
    {
     "data": {
      "text/plain": [
       "array([3, 1])"
      ]
     },
     "execution_count": 38,
     "metadata": {},
     "output_type": "execute_result"
    }
   ],
   "source": [
    "np_2d[:,0]"
   ]
  },
  {
   "cell_type": "code",
   "execution_count": 39,
   "id": "78bc04bd",
   "metadata": {},
   "outputs": [
    {
     "name": "stdout",
     "output_type": "stream",
     "text": [
      "[[180.    9.4]\n",
      " [120.    4.5]\n",
      " [200.    5.6]\n",
      " [169.    6.7]]\n"
     ]
    }
   ],
   "source": [
    "baseball=[\n",
    "    [180,9.4],\n",
    "    [120,4.5],\n",
    "    [200,5.6],\n",
    "    [169,6.7]\n",
    "]\n",
    "np_baseball=np.array(baseball)\n",
    "print(np_baseball)"
   ]
  },
  {
   "cell_type": "code",
   "execution_count": 40,
   "id": "17bc5107",
   "metadata": {},
   "outputs": [
    {
     "name": "stdout",
     "output_type": "stream",
     "text": [
      "<class 'numpy.ndarray'>\n"
     ]
    }
   ],
   "source": [
    "print(type(np_baseball))"
   ]
  },
  {
   "cell_type": "code",
   "execution_count": 41,
   "id": "a73e84ed",
   "metadata": {},
   "outputs": [
    {
     "data": {
      "text/plain": [
       "(4, 2)"
      ]
     },
     "execution_count": 41,
     "metadata": {},
     "output_type": "execute_result"
    }
   ],
   "source": [
    "np_baseball.shape"
   ]
  },
  {
   "cell_type": "code",
   "execution_count": 44,
   "id": "e26d7c1f",
   "metadata": {},
   "outputs": [
    {
     "name": "stdout",
     "output_type": "stream",
     "text": [
      "[9.4 4.5 5.6 6.7]\n"
     ]
    }
   ],
   "source": [
    "np_weight=np_baseball[:,1]\n",
    "print(np_weight)"
   ]
  },
  {
   "cell_type": "code",
   "execution_count": 47,
   "id": "9f3e8ff0",
   "metadata": {},
   "outputs": [
    {
     "name": "stdout",
     "output_type": "stream",
     "text": [
      "[169.    6.7]\n",
      "[9.4 4.5 5.6 6.7]\n",
      "120.0\n",
      "5.6\n"
     ]
    }
   ],
   "source": [
    "# Print out the 4th row of np_baseball\n",
    "print(np_baseball[3,:])\n",
    "\n",
    "# Select the entire second column of np_baseball: np_weight_lb\n",
    "np_weight_lb=np_baseball[:,1]\n",
    "print(np_weight_lb)\n",
    "# Print out height of 2nd player\n",
    "print(np_baseball[1,0])\n",
    "\n",
    "#Print out the 25th person's weight\n",
    "print(np_baseball[2,1])"
   ]
  },
  {
   "cell_type": "code",
   "execution_count": 33,
   "id": "a094b3ce",
   "metadata": {},
   "outputs": [
    {
     "data": {
      "text/plain": [
       "array([[ 2,  4],\n",
       "       [ 6,  8],\n",
       "       [10, 12]])"
      ]
     },
     "execution_count": 33,
     "metadata": {},
     "output_type": "execute_result"
    }
   ],
   "source": [
    "import numpy as np\n",
    "np_mat = np.array([[1, 2],\n",
    "                   [3, 4],\n",
    "                   [5, 6]])\n",
    "np_mat * np.array([2,2])"
   ]
  },
  {
   "cell_type": "code",
   "execution_count": 49,
   "id": "ea94d10e",
   "metadata": {},
   "outputs": [
    {
     "data": {
      "text/plain": [
       "array([[11, 12],\n",
       "       [13, 14],\n",
       "       [15, 16]])"
      ]
     },
     "execution_count": 49,
     "metadata": {},
     "output_type": "execute_result"
    }
   ],
   "source": [
    "np_mat+np.array([10,10])"
   ]
  },
  {
   "cell_type": "code",
   "execution_count": 50,
   "id": "fd68f803",
   "metadata": {},
   "outputs": [
    {
     "data": {
      "text/plain": [
       "array([[ 2,  4],\n",
       "       [ 6,  8],\n",
       "       [10, 12]])"
      ]
     },
     "execution_count": 50,
     "metadata": {},
     "output_type": "execute_result"
    }
   ],
   "source": [
    "np_mat+np_mat"
   ]
  },
  {
   "cell_type": "code",
   "execution_count": 54,
   "id": "b453e334",
   "metadata": {},
   "outputs": [
    {
     "data": {
      "text/plain": [
       "array([[2. , 3. , 4.5],\n",
       "       [4. , 5. , 6.2],\n",
       "       [6. , 7. , 8.4]])"
      ]
     },
     "execution_count": 54,
     "metadata": {},
     "output_type": "execute_result"
    }
   ],
   "source": [
    "np_array=np.array([[2,3,4.5],\n",
    "                  [4,5,6.2],\n",
    "                  [6,7,8.4]])\n",
    "np_array"
   ]
  },
  {
   "cell_type": "code",
   "execution_count": 55,
   "id": "8ed90d73",
   "metadata": {},
   "outputs": [
    {
     "name": "stdout",
     "output_type": "stream",
     "text": [
      "[[0.049    1.360776 4.5     ]\n",
      " [0.098    2.26796  6.2     ]\n",
      " [0.147    3.175144 8.4     ]]\n"
     ]
    }
   ],
   "source": [
    "conversion=np.array([0.0245,0.453592,1])\n",
    "print(np_array*conversion)"
   ]
  },
  {
   "cell_type": "code",
   "execution_count": 56,
   "id": "1315a82e",
   "metadata": {},
   "outputs": [
    {
     "name": "stdout",
     "output_type": "stream",
     "text": [
      "6.366666666666667\n"
     ]
    }
   ],
   "source": [
    "mean_age=np.mean(np_array[:,2])\n",
    "print(mean_age)"
   ]
  },
  {
   "cell_type": "code",
   "execution_count": 59,
   "id": "cbb45f58",
   "metadata": {},
   "outputs": [
    {
     "name": "stdout",
     "output_type": "stream",
     "text": [
      "6.2\n"
     ]
    }
   ],
   "source": [
    "median_age=np.median(np_array[:,2])\n",
    "print(median_age)"
   ]
  },
  {
   "cell_type": "code",
   "execution_count": 60,
   "id": "afca2e0b",
   "metadata": {},
   "outputs": [
    {
     "name": "stdout",
     "output_type": "stream",
     "text": [
      "15.0\n"
     ]
    }
   ],
   "source": [
    "sum=np.sum(np_array[:,1])\n",
    "print(sum)"
   ]
  },
  {
   "cell_type": "code",
   "execution_count": 63,
   "id": "6767cd04",
   "metadata": {},
   "outputs": [
    {
     "name": "stdout",
     "output_type": "stream",
     "text": [
      "1.63\n"
     ]
    }
   ],
   "source": [
    "std=np.std(np_array[:,0])\n",
    "print(round(std,2))"
   ]
  },
  {
   "cell_type": "code",
   "execution_count": 66,
   "id": "0699dcee",
   "metadata": {},
   "outputs": [
    {
     "data": {
      "text/plain": [
       "array([[1.        , 0.99727178],\n",
       "       [0.99727178, 1.        ]])"
      ]
     },
     "execution_count": 66,
     "metadata": {},
     "output_type": "execute_result"
    }
   ],
   "source": [
    "np.corrcoef(np_array[:,1],np_array[:,2])"
   ]
  },
  {
   "cell_type": "code",
   "execution_count": 69,
   "id": "e6fae213",
   "metadata": {},
   "outputs": [
    {
     "name": "stdout",
     "output_type": "stream",
     "text": [
      "[2. 4. 6.]\n"
     ]
    }
   ],
   "source": [
    "sorted_np=np.sort(np_array[:,0])\n",
    "print(sorted_np)"
   ]
  },
  {
   "cell_type": "code",
   "execution_count": 35,
   "id": "8378786e",
   "metadata": {},
   "outputs": [
    {
     "name": "stdout",
     "output_type": "stream",
     "text": [
      "[[ 1.34 37.85]\n",
      " [ 1.47 42.82]\n",
      " [ 1.39 37.75]\n",
      " [ 1.41 59.56]\n",
      " [ 1.5  52.06]\n",
      " [ 1.25 47.19]\n",
      " [ 1.63 43.39]\n",
      " [ 1.76 32.94]\n",
      " [ 1.72 46.41]\n",
      " [ 1.15 43.27]\n",
      " [ 1.77 39.79]\n",
      " [ 1.45 44.51]\n",
      " [ 1.33 60.66]\n",
      " [ 1.49 33.35]\n",
      " [ 1.32 36.82]\n",
      " [ 1.84 63.91]\n",
      " [ 1.35 48.14]\n",
      " [ 1.63 59.48]\n",
      " [ 1.49 44.82]\n",
      " [ 1.32 31.74]\n",
      " [ 1.24 58.67]\n",
      " [ 1.45 56.24]\n",
      " [ 1.23 58.38]\n",
      " [ 1.52 29.83]\n",
      " [ 1.22 36.97]\n",
      " [ 1.2  46.98]\n",
      " [ 1.88 59.52]\n",
      " [ 1.78 48.53]\n",
      " [ 1.41 41.31]\n",
      " [ 1.64 43.25]\n",
      " [ 1.46 42.76]\n",
      " [ 1.51 58.7 ]\n",
      " [ 1.18 48.24]\n",
      " [ 1.88 43.49]\n",
      " [ 1.39 51.93]\n",
      " [ 1.47 62.79]\n",
      " [ 1.53 59.27]\n",
      " [ 1.57 40.29]\n",
      " [ 1.44 62.17]\n",
      " [ 1.32 49.32]\n",
      " [ 1.3  57.17]\n",
      " [ 1.41 64.17]\n",
      " [ 1.29 42.94]\n",
      " [ 1.62 35.19]\n",
      " [ 1.62 52.15]\n",
      " [ 1.34 52.77]\n",
      " [ 1.28 49.09]\n",
      " [ 1.7  38.37]\n",
      " [ 1.25 28.81]\n",
      " [ 1.52 45.2 ]]\n"
     ]
    }
   ],
   "source": [
    "height=np.round(np.random.normal(1.45,0.20,50),2)\n",
    "weight=np.round(np.random.normal(45.5,10,50),2)\n",
    "np_city=np.column_stack((height,weight))\n",
    "print(np_city)"
   ]
  },
  {
   "cell_type": "code",
   "execution_count": 75,
   "id": "2d9fa691",
   "metadata": {},
   "outputs": [
    {
     "name": "stdout",
     "output_type": "stream",
     "text": [
      "1.4\n",
      "45.2\n"
     ]
    }
   ],
   "source": [
    "mean_h=round(np.mean(np_city[:,0]),1)\n",
    "mean_w=round(np.mean(np_city[:,1]),1)\n",
    "print(mean_h)\n",
    "print(mean_w)"
   ]
  },
  {
   "cell_type": "code",
   "execution_count": 76,
   "id": "ac444f25",
   "metadata": {},
   "outputs": [
    {
     "name": "stdout",
     "output_type": "stream",
     "text": [
      "0.2\n",
      "9.0\n"
     ]
    }
   ],
   "source": [
    "std_h=round(np.std(np_city[:,0]),1)\n",
    "std_w=round(np.std(np_city[:,1]),1)\n",
    "print(std_h)\n",
    "print(std_w)"
   ]
  },
  {
   "cell_type": "code",
   "execution_count": 78,
   "id": "d9767d28",
   "metadata": {},
   "outputs": [
    {
     "data": {
      "text/plain": [
       "array([[ 1.        , -0.09525845],\n",
       "       [-0.09525845,  1.        ]])"
      ]
     },
     "execution_count": 78,
     "metadata": {},
     "output_type": "execute_result"
    }
   ],
   "source": [
    "np.corrcoef(np_city[:,0],np_city[:,1])"
   ]
  },
  {
   "cell_type": "code",
   "execution_count": 42,
   "id": "fb55182e",
   "metadata": {},
   "outputs": [
    {
     "name": "stdout",
     "output_type": "stream",
     "text": [
      "[array([ 1.15, 43.27]), array([ 1.18, 48.24]), array([ 1.2 , 46.98]), array([ 1.22, 36.97]), array([ 1.23, 58.38]), array([ 1.24, 58.67]), array([ 1.25, 47.19]), array([ 1.25, 28.81]), array([ 1.28, 49.09]), array([ 1.29, 42.94]), array([ 1.3 , 57.17]), array([ 1.32, 36.82]), array([ 1.32, 31.74]), array([ 1.32, 49.32]), array([ 1.33, 60.66]), array([ 1.34, 37.85]), array([ 1.34, 52.77]), array([ 1.35, 48.14]), array([ 1.39, 37.75]), array([ 1.39, 51.93]), array([ 1.41, 59.56]), array([ 1.41, 41.31]), array([ 1.41, 64.17]), array([ 1.44, 62.17]), array([ 1.45, 44.51]), array([ 1.45, 56.24]), array([ 1.46, 42.76]), array([ 1.47, 42.82]), array([ 1.47, 62.79]), array([ 1.49, 33.35]), array([ 1.49, 44.82]), array([ 1.5 , 52.06]), array([ 1.51, 58.7 ]), array([ 1.52, 29.83]), array([ 1.52, 45.2 ]), array([ 1.53, 59.27]), array([ 1.57, 40.29]), array([ 1.62, 35.19]), array([ 1.62, 52.15]), array([ 1.63, 43.39]), array([ 1.63, 59.48]), array([ 1.64, 43.25]), array([ 1.7 , 38.37]), array([ 1.72, 46.41]), array([ 1.76, 32.94]), array([ 1.77, 39.79]), array([ 1.78, 48.53]), array([ 1.84, 63.91]), array([ 1.88, 59.52]), array([ 1.88, 43.49])]\n",
      "[[ 1.34 37.85]\n",
      " [ 1.47 42.82]\n",
      " [ 1.39 37.75]\n",
      " [ 1.41 59.56]\n",
      " [ 1.5  52.06]\n",
      " [ 1.25 47.19]\n",
      " [ 1.63 43.39]\n",
      " [ 1.76 32.94]\n",
      " [ 1.72 46.41]\n",
      " [ 1.15 43.27]\n",
      " [ 1.77 39.79]\n",
      " [ 1.45 44.51]\n",
      " [ 1.33 60.66]\n",
      " [ 1.49 33.35]\n",
      " [ 1.32 36.82]\n",
      " [ 1.84 63.91]\n",
      " [ 1.35 48.14]\n",
      " [ 1.63 59.48]\n",
      " [ 1.49 44.82]\n",
      " [ 1.32 31.74]\n",
      " [ 1.24 58.67]\n",
      " [ 1.45 56.24]\n",
      " [ 1.23 58.38]\n",
      " [ 1.52 29.83]\n",
      " [ 1.22 36.97]\n",
      " [ 1.2  46.98]\n",
      " [ 1.88 59.52]\n",
      " [ 1.78 48.53]\n",
      " [ 1.41 41.31]\n",
      " [ 1.64 43.25]\n",
      " [ 1.46 42.76]\n",
      " [ 1.51 58.7 ]\n",
      " [ 1.18 48.24]\n",
      " [ 1.88 43.49]\n",
      " [ 1.39 51.93]\n",
      " [ 1.47 62.79]\n",
      " [ 1.53 59.27]\n",
      " [ 1.57 40.29]\n",
      " [ 1.44 62.17]\n",
      " [ 1.32 49.32]\n",
      " [ 1.3  57.17]\n",
      " [ 1.41 64.17]\n",
      " [ 1.29 42.94]\n",
      " [ 1.62 35.19]\n",
      " [ 1.62 52.15]\n",
      " [ 1.34 52.77]\n",
      " [ 1.28 49.09]\n",
      " [ 1.7  38.37]\n",
      " [ 1.25 28.81]\n",
      " [ 1.52 45.2 ]]\n"
     ]
    }
   ],
   "source": [
    "#sorted_city=sorted(np_city,key= lambda x:x[0])\n",
    "sorted_h=np.sort(np_city)\n",
    "\n",
    "print(sorted_h)"
   ]
  },
  {
   "cell_type": "code",
   "execution_count": 38,
   "id": "171312e3",
   "metadata": {},
   "outputs": [
    {
     "name": "stdout",
     "output_type": "stream",
     "text": [
      "[28.81 29.83 31.74 32.94 33.35 35.19 36.82 36.97 37.75 37.85 38.37 39.79\n",
      " 40.29 41.31 42.76 42.82 42.94 43.25 43.27 43.39 43.49 44.51 44.82 45.2\n",
      " 46.41 46.98 47.19 48.14 48.24 48.53 49.09 49.32 51.93 52.06 52.15 52.77\n",
      " 56.24 57.17 58.38 58.67 58.7  59.27 59.48 59.52 59.56 60.66 62.17 62.79\n",
      " 63.91 64.17]\n"
     ]
    }
   ],
   "source": [
    "sorted_w=np.sort(np_city[:,1])\n",
    "sorted_baseball=np.column_stack((sorted_h,sorted_w))\n",
    "print(sorted_w)"
   ]
  },
  {
   "cell_type": "code",
   "execution_count": 83,
   "id": "4130f97a",
   "metadata": {},
   "outputs": [
    {
     "name": "stdout",
     "output_type": "stream",
     "text": [
      "[[1.53355092 1.19772323]\n",
      " [1.13061229 1.09246009]\n",
      " [1.40124372 1.07888782]\n",
      " [1.18756464 1.16987756]\n",
      " [1.18043458 1.03884001]\n",
      " [0.93286902 0.84149007]\n",
      " [1.6908764  1.17348272]\n",
      " [1.03309735 1.13954259]\n",
      " [1.38196903 1.24601853]\n",
      " [1.18000669 1.37831922]\n",
      " [0.92773976 0.93566662]\n",
      " [1.78361292 1.36822514]\n",
      " [1.32585138 1.23094549]\n",
      " [1.20471728 1.25629551]\n",
      " [1.44816623 1.15138144]\n",
      " [1.73632382 1.04133324]\n",
      " [1.14620041 1.04490266]\n",
      " [2.2770371  1.2586051 ]\n",
      " [1.43389539 1.21071935]\n",
      " [0.99145186 1.53821937]]\n"
     ]
    }
   ],
   "source": [
    "a=np.random.normal(1.3,0.3,20)\n",
    "b=np.random.normal(1.2,0.2,20)\n",
    "a_b=np.column_stack((a,b))\n",
    "print(a_b)"
   ]
  },
  {
   "cell_type": "code",
   "execution_count": 85,
   "id": "0870f6d2",
   "metadata": {},
   "outputs": [
    {
     "name": "stdout",
     "output_type": "stream",
     "text": [
      "[[0.39077159 0.23557547 0.73075188]\n",
      " [0.79308538 0.63486741 0.80310807]\n",
      " [0.34699625 0.25684857 0.59737567]\n",
      " [0.23638128 0.17439491 0.32036704]\n",
      " [0.14224548 0.21660388 0.26960773]\n",
      " [0.46480363 0.73612552 0.61441879]\n",
      " [0.99698782 0.7654716  0.46225838]\n",
      " [0.90020616 0.29393823 0.52941999]\n",
      " [0.36187989 0.30357011 0.38864989]\n",
      " [0.82143951 0.01839092 0.44299097]\n",
      " [0.23463889 0.75188793 0.67042867]\n",
      " [0.31721946 0.4850944  0.22377078]\n",
      " [0.32847535 0.78264366 0.6368399 ]\n",
      " [0.88324212 0.41123117 0.36508314]\n",
      " [0.14518786 0.05250411 0.15739843]\n",
      " [0.19334478 0.59436055 0.84476704]\n",
      " [0.85886516 0.01074273 0.63368996]\n",
      " [0.53421171 0.29381987 0.77339669]\n",
      " [0.37500536 0.29973422 0.07642946]\n",
      " [0.80565216 0.17174557 0.98883994]]\n"
     ]
    }
   ],
   "source": [
    "c=np.random.rand(20)\n",
    "d=np.random.rand(20)\n",
    "e=np.random.rand(20)\n",
    "c_d_e=np.column_stack((c,d,e))\n",
    "print(c_d_e)"
   ]
  },
  {
   "cell_type": "code",
   "execution_count": 86,
   "id": "76c79658",
   "metadata": {},
   "outputs": [
    {
     "data": {
      "text/plain": [
       "'\\nDo big players tend to be heavier? \\nUse np.corrcoef() to store the correlation between the first and second column of np_baseball in corr.\\nReplace None with the correct code.\\n\\n# Import numpy\\nimport numpy as np\\n\\nnp_heights\\n# Print mean height (first column)\\navg = np.mean(np_baseball[:,0])\\nprint(\"Average: \" + str(avg))\\n\\n# Print median height. Replace \\'None\\'\\nmed = np.median(np_baseball[:,0])\\nprint(\"Median: \" + str(med))\\n\\n# Print out the standard deviation on height. Replace \\'None\\'\\nstddev = np.std(np_baseball[:,0])\\nprint(\"Standard Deviation: \" + str(stddev))\\n\\n# Print out correlation between first and second column. Replace \\'None\\'\\ncorr = np.corrcoef(np_baseball[:,0],np_baseball[:,1])\\nprint(\"Correlation: \" + str(corr))\\n'"
      ]
     },
     "execution_count": 86,
     "metadata": {},
     "output_type": "execute_result"
    }
   ],
   "source": [
    "\"\"\"\n",
    "Do big players tend to be heavier? \n",
    "Use np.corrcoef() to store the correlation between the first and second column of np_baseball in corr.\n",
    "Replace None with the correct code.\n",
    "\n",
    "# Import numpy\n",
    "import numpy as np\n",
    "\n",
    "np_heights\n",
    "# Print mean height (first column)\n",
    "avg = np.mean(np_baseball[:,0])\n",
    "print(\"Average: \" + str(avg))\n",
    "\n",
    "# Print median height. Replace 'None'\n",
    "med = np.median(np_baseball[:,0])\n",
    "print(\"Median: \" + str(med))\n",
    "\n",
    "# Print out the standard deviation on height. Replace 'None'\n",
    "stddev = np.std(np_baseball[:,0])\n",
    "print(\"Standard Deviation: \" + str(stddev))\n",
    "\n",
    "# Print out correlation between first and second column. Replace 'None'\n",
    "corr = np.corrcoef(np_baseball[:,0],np_baseball[:,1])\n",
    "print(\"Correlation: \" + str(corr))\n",
    "\"\"\"\n"
   ]
  },
  {
   "cell_type": "code",
   "execution_count": 98,
   "id": "907a57b1",
   "metadata": {},
   "outputs": [
    {
     "name": "stdout",
     "output_type": "stream",
     "text": [
      "The median of the gk heights is 99.5\n",
      "The median of the other heights is 99.0\n"
     ]
    }
   ],
   "source": [
    "np_heights=np.round(np.random.normal(100.5,2.5,10))\n",
    "positions=['GK','MK','FK','LK','GK','GK','MK','LK','GK','FK']\n",
    "np_positions=np.array(positions)\n",
    "gk_heights=np_heights[np_positions=='GK']\n",
    "other_heights=np_heights[np_positions!='GK']\n",
    "\n",
    "print(f\"The median of the gk heights is {np.median(gk_heights)}\")\n",
    "print(f\"The median of the other heights is {np.median(other_heights)}\")"
   ]
  },
  {
   "cell_type": "code",
   "execution_count": null,
   "id": "e63fa37d",
   "metadata": {},
   "outputs": [],
   "source": []
  }
 ],
 "metadata": {
  "kernelspec": {
   "display_name": "Python 3 (ipykernel)",
   "language": "python",
   "name": "python3"
  },
  "language_info": {
   "codemirror_mode": {
    "name": "ipython",
    "version": 3
   },
   "file_extension": ".py",
   "mimetype": "text/x-python",
   "name": "python",
   "nbconvert_exporter": "python",
   "pygments_lexer": "ipython3",
   "version": "3.11.5"
  }
 },
 "nbformat": 4,
 "nbformat_minor": 5
}
