{
 "cells": [
  {
   "cell_type": "code",
   "execution_count": 8,
   "id": "f4b80e31",
   "metadata": {},
   "outputs": [
    {
     "name": "stdout",
     "output_type": "stream",
     "text": [
      "Capital city of germany is berlin\n",
      "The key of europe dictionary dict_keys(['spain', 'france', 'germany', 'norway'])\n",
      "Capital city of spain is madrid\n",
      "Capital city of Norway is olso\n",
      "Capital city of Russia is Sorry,the data does not contain in the list\n"
     ]
    }
   ],
   "source": [
    "country=['spain','france','germany','norway']\n",
    "capital=['madrid','paris','berlin','olso']\n",
    "\n",
    "index_ger=country.index('germany')\n",
    "print(f\"Capital city of germany is {capital[index_ger]}\")\n",
    "\n",
    "europe={\n",
    "    'spain':'madrid',\n",
    "    'france':'paris',\n",
    "    'germany':'berlin',\n",
    "    'norway':'olso'\n",
    "}\n",
    "print('The key of europe dictionary '+str(europe.keys()))\n",
    "\n",
    "\n",
    "print(f\"Capital city of spain is {europe['spain']}\")\n",
    "print(\"Capital city of Norway is {}\".format(europe.get('norway')))\n",
    "print('Capital city of Russia is '+str(europe.get('russia','Sorry,the data does not contain in the list')))"
   ]
  },
  {
   "cell_type": "code",
   "execution_count": 9,
   "id": "d80edfff",
   "metadata": {},
   "outputs": [
    {
     "data": {
      "text/plain": [
       "{'sealand': 2.5e-05}"
      ]
     },
     "execution_count": 9,
     "metadata": {},
     "output_type": "execute_result"
    }
   ],
   "source": [
    "world={}\n",
    "\n",
    "world"
   ]
  },
  {
   "cell_type": "code",
   "execution_count": 13,
   "id": "7732c3ae",
   "metadata": {},
   "outputs": [
    {
     "data": {
      "text/plain": [
       "{'albania': 2.81, 'algeria': 39.21, 'afghanistan': 30.55, 'sealand': 0.0025}"
      ]
     },
     "execution_count": 13,
     "metadata": {},
     "output_type": "execute_result"
    }
   ],
   "source": [
    "\n",
    "world={\n",
    "    'albania':2.81,\n",
    "    'algeria':39.21\n",
    "}\n",
    "world['afghanistan']=30.55\n",
    "world['sealand']=0.0025"
   ]
  },
  {
   "cell_type": "code",
   "execution_count": 15,
   "id": "38852694",
   "metadata": {},
   "outputs": [
    {
     "data": {
      "text/plain": [
       "True"
      ]
     },
     "execution_count": 15,
     "metadata": {},
     "output_type": "execute_result"
    }
   ],
   "source": [
    "'sealand' in world"
   ]
  },
  {
   "cell_type": "code",
   "execution_count": 16,
   "id": "e15066bc",
   "metadata": {},
   "outputs": [
    {
     "data": {
      "text/plain": [
       "{'albania': 2.81, 'algeria': 39.21, 'afghanistan': 30.55, 'sealand': 0.034}"
      ]
     },
     "execution_count": 16,
     "metadata": {},
     "output_type": "execute_result"
    }
   ],
   "source": [
    "world['sealand']=0.034\n",
    "world"
   ]
  },
  {
   "cell_type": "code",
   "execution_count": 17,
   "id": "0e1e17c1",
   "metadata": {},
   "outputs": [
    {
     "data": {
      "text/plain": [
       "{'albania': 2.81, 'afghanistan': 30.55, 'sealand': 0.034}"
      ]
     },
     "execution_count": 17,
     "metadata": {},
     "output_type": "execute_result"
    }
   ],
   "source": [
    "del(world['algeria'])\n",
    "world"
   ]
  },
  {
   "cell_type": "code",
   "execution_count": 20,
   "id": "068a5b07",
   "metadata": {},
   "outputs": [
    {
     "data": {
      "text/plain": [
       "True"
      ]
     },
     "execution_count": 20,
     "metadata": {},
     "output_type": "execute_result"
    }
   ],
   "source": [
    "europe['italy']='rome'\n",
    "europe['poland']='warsaw'\n",
    "europe['italy']\n",
    "'poland' in europe"
   ]
  },
  {
   "cell_type": "markdown",
   "id": "58e29208",
   "metadata": {},
   "source": [
    "**Dictionariception**"
   ]
  },
  {
   "cell_type": "code",
   "execution_count": 23,
   "id": "bf67e0ba",
   "metadata": {},
   "outputs": [
    {
     "name": "stdout",
     "output_type": "stream",
     "text": [
      "paris\n"
     ]
    }
   ],
   "source": [
    "europe={\n",
    "    'spain':{\n",
    "        'capital':'madrid',\n",
    "        'population':48.5\n",
    "    },\n",
    "    'france':{\n",
    "        'capital':'paris',\n",
    "        'population':55.6\n",
    "    },\n",
    "    'norway':{\n",
    "        'capital':'olso',\n",
    "        'population':56.8\n",
    "    }\n",
    "}\n",
    "europe['germany']={ \n",
    "    'capital':'berlin',\n",
    "    'population':66.5\n",
    "}\n",
    "print(europe['france']['capital'])"
   ]
  },
  {
   "cell_type": "code",
   "execution_count": null,
   "id": "f23515f9",
   "metadata": {},
   "outputs": [],
   "source": [
    "#optional arguments\n",
    "function_1(p,r1,[,q],[,r2])"
   ]
  }
 ],
 "metadata": {
  "kernelspec": {
   "display_name": "Python 3 (ipykernel)",
   "language": "python",
   "name": "python3"
  },
  "language_info": {
   "codemirror_mode": {
    "name": "ipython",
    "version": 3
   },
   "file_extension": ".py",
   "mimetype": "text/x-python",
   "name": "python",
   "nbconvert_exporter": "python",
   "pygments_lexer": "ipython3",
   "version": "3.11.5"
  }
 },
 "nbformat": 4,
 "nbformat_minor": 5
}
