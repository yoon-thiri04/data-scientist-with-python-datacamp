{
 "cells": [
  {
   "cell_type": "code",
   "execution_count": 1,
   "id": "63a74cb0",
   "metadata": {},
   "outputs": [
    {
     "data": {
      "text/plain": [
       "0.955341984201213"
      ]
     },
     "execution_count": 1,
     "metadata": {},
     "output_type": "execute_result"
    }
   ],
   "source": [
    "import numpy as np\n",
    "np.random.rand()"
   ]
  },
  {
   "cell_type": "code",
   "execution_count": 2,
   "id": "8c289112",
   "metadata": {},
   "outputs": [
    {
     "data": {
      "text/plain": [
       "0.6964691855978616"
      ]
     },
     "execution_count": 2,
     "metadata": {},
     "output_type": "execute_result"
    }
   ],
   "source": [
    "np.random.seed(123)\n",
    "np.random.rand()\n"
   ]
  },
  {
   "cell_type": "code",
   "execution_count": 3,
   "id": "d27c85d3",
   "metadata": {},
   "outputs": [
    {
     "data": {
      "text/plain": [
       "0.28613933495037946"
      ]
     },
     "execution_count": 3,
     "metadata": {},
     "output_type": "execute_result"
    }
   ],
   "source": [
    "np.random.rand()"
   ]
  },
  {
   "cell_type": "code",
   "execution_count": 4,
   "id": "62db6b6a",
   "metadata": {},
   "outputs": [
    {
     "data": {
      "text/plain": [
       "0.6964691855978616"
      ]
     },
     "execution_count": 4,
     "metadata": {},
     "output_type": "execute_result"
    }
   ],
   "source": [
    "np.random.seed(123) #ensure reproductivity\n",
    "np.random.rand()"
   ]
  },
  {
   "cell_type": "code",
   "execution_count": 65,
   "id": "1d31b881",
   "metadata": {},
   "outputs": [
    {
     "name": "stdout",
     "output_type": "stream",
     "text": [
      "0\n",
      "heads\n",
      "1\n"
     ]
    }
   ],
   "source": [
    "np.random.seed(123)\n",
    "coin=np.random.randint(0,2)\n",
    "print(coin)\n",
    "if coin==0:\n",
    "    print(\"heads\")\n",
    "    \n",
    "else:\n",
    "    print(\"tails\")\n",
    "coin=np.random.randint(0,2)\n",
    "print(coin)\n",
    "step=50"
   ]
  },
  {
   "cell_type": "code",
   "execution_count": 70,
   "id": "336f0ad2",
   "metadata": {},
   "outputs": [
    {
     "name": "stdout",
     "output_type": "stream",
     "text": [
      "4\n",
      "47\n"
     ]
    }
   ],
   "source": [
    "dice=np.random.randint(1,7)\n",
    "\n",
    "if dice<=2:\n",
    "    step=step+1\n",
    "elif dice>2 and dice<=5:\n",
    "    step=step-1\n",
    "else:\n",
    "    dice=np.random.randint(1,7)\n",
    "    \n",
    "print(dice)\n",
    "print(step)\n",
    "    "
   ]
  },
  {
   "cell_type": "code",
   "execution_count": null,
   "id": "3162fbed",
   "metadata": {},
   "outputs": [],
   "source": []
  },
  {
   "cell_type": "code",
   "execution_count": null,
   "id": "836d7a1e",
   "metadata": {},
   "outputs": [],
   "source": []
  }
 ],
 "metadata": {
  "kernelspec": {
   "display_name": "Python 3 (ipykernel)",
   "language": "python",
   "name": "python3"
  },
  "language_info": {
   "codemirror_mode": {
    "name": "ipython",
    "version": 3
   },
   "file_extension": ".py",
   "mimetype": "text/x-python",
   "name": "python",
   "nbconvert_exporter": "python",
   "pygments_lexer": "ipython3",
   "version": "3.11.5"
  }
 },
 "nbformat": 4,
 "nbformat_minor": 5
}
