{
 "cells": [
  {
   "cell_type": "code",
   "execution_count": 2,
   "id": "3d566e2c",
   "metadata": {},
   "outputs": [
    {
     "name": "stdout",
     "output_type": "stream",
     "text": [
      "index 0 height: 3\n",
      "index 1 height: 4\n",
      "index 2 height: 5\n",
      "index 3 height: 67\n",
      "index 4 height: 8\n",
      "index 5 height: 9\n"
     ]
    }
   ],
   "source": [
    "fam = [3, 4, 5, 67, 8, 9]\n",
    "for index, h in enumerate(fam):\n",
    "    print(\"index \" + str(index) + \" height: \" + str(h))"
   ]
  },
  {
   "cell_type": "code",
   "execution_count": 3,
   "id": "d23b6916",
   "metadata": {},
   "outputs": [
    {
     "name": "stdout",
     "output_type": "stream",
     "text": [
      "the hallway is 11.25 sqm.\n",
      "the kitchen is 18.0 sqm.\n",
      "the living room is 20.0 sqm.\n",
      "the bedroom is 10.75 sqm.\n",
      "the bathroom is 9.5 sqm.\n"
     ]
    }
   ],
   "source": [
    "house = [[\"hallway\", 11.25], \n",
    "         [\"kitchen\", 18.0], \n",
    "         [\"living room\", 20.0], \n",
    "         [\"bedroom\", 10.75], \n",
    "         [\"bathroom\", 9.50]]\n",
    "for h in house:\n",
    "    print(\"the \"+h[0]+\" is \"+ str(h[1]) +\" sqm.\")"
   ]
  },
  {
   "cell_type": "code",
   "execution_count": 4,
   "id": "a42425f0",
   "metadata": {},
   "outputs": [
    {
     "name": "stdout",
     "output_type": "stream",
     "text": [
      "connecting...\n",
      "-5\n",
      "connecting...\n",
      "-4\n",
      "connecting...\n",
      "-3\n",
      "connecting...\n",
      "-2\n",
      "connecting...\n",
      "-1\n",
      "connecting...\n",
      "0\n"
     ]
    }
   ],
   "source": [
    "#while loop\n",
    "offset=-6\n",
    "while offset!=0:\n",
    "    print(\"connecting...\")\n",
    "    if offset>0:\n",
    "        offset=offset-1\n",
    "    else:\n",
    "        offset=offset+1\n",
    "    print(offset)"
   ]
  },
  {
   "cell_type": "code",
   "execution_count": 5,
   "id": "2419e3a2",
   "metadata": {},
   "outputs": [
    {
     "name": "stdout",
     "output_type": "stream",
     "text": [
      "The capital of Spain is Madrid\n",
      "The capital of France is Paris\n",
      "The capital of Germany is Berlin\n",
      "The capital of Norway is Olso\n"
     ]
    }
   ],
   "source": [
    "europe={\n",
    "    'spain':'madrid',\n",
    "    'france':'paris',\n",
    "    'germany':'berlin',\n",
    "    'norway':'olso'\n",
    "}\n",
    "for key,value in europe.items():\n",
    "    print(f\"The capital of {key.title()} is {value.title()}\")"
   ]
  },
  {
   "cell_type": "code",
   "execution_count": 2,
   "id": "c79faba3",
   "metadata": {},
   "outputs": [
    {
     "data": {
      "text/plain": [
       "array([[ 4.67,  5.66,  2.34,  5.34,  7.65],\n",
       "       [65.4 , 59.3 , 44.56, 78.9 , 65.89]])"
      ]
     },
     "execution_count": 2,
     "metadata": {},
     "output_type": "execute_result"
    }
   ],
   "source": [
    "import numpy as np\n",
    "np_height=np.array([4.67,5.66,2.34,5.34,7.65])\n",
    "np_weight=np.array([65.4,59.3,44.56,78.9,65.89])\n",
    "np_person=np.column_stack((np_height,np_weight))\n",
    "np_bmi=np.array([np_height,np_weight])\n",
    "np_person\n",
    "np_bmi"
   ]
  },
  {
   "cell_type": "code",
   "execution_count": 4,
   "id": "1c078f9e",
   "metadata": {},
   "outputs": [
    {
     "data": {
      "text/plain": [
       "array([ 5.34, 78.9 ])"
      ]
     },
     "execution_count": 4,
     "metadata": {},
     "output_type": "execute_result"
    }
   ],
   "source": [
    "\n",
    "np_bmi[:,3] #all row of that column"
   ]
  },
  {
   "cell_type": "code",
   "execution_count": 13,
   "id": "d50c276f",
   "metadata": {},
   "outputs": [
    {
     "data": {
      "text/plain": [
       "78.9"
      ]
     },
     "execution_count": 13,
     "metadata": {},
     "output_type": "execute_result"
    }
   ],
   "source": [
    "np_person[3][1] #row and colum"
   ]
  },
  {
   "cell_type": "code",
   "execution_count": 12,
   "id": "d85cea45",
   "metadata": {},
   "outputs": [
    {
     "data": {
      "text/plain": [
       "array([4.67, 5.66, 2.34, 5.34, 7.65])"
      ]
     },
     "execution_count": 12,
     "metadata": {},
     "output_type": "execute_result"
    }
   ],
   "source": [
    "np_person[:,0] #all row of that column"
   ]
  },
  {
   "cell_type": "code",
   "execution_count": 14,
   "id": "75e940ae",
   "metadata": {},
   "outputs": [
    {
     "data": {
      "text/plain": [
       "array([[ 4.67, 65.4 ],\n",
       "       [ 5.66, 59.3 ],\n",
       "       [ 2.34, 44.56],\n",
       "       [ 5.34, 78.9 ],\n",
       "       [ 7.65, 65.89]])"
      ]
     },
     "execution_count": 14,
     "metadata": {},
     "output_type": "execute_result"
    }
   ],
   "source": [
    "np_person"
   ]
  },
  {
   "cell_type": "code",
   "execution_count": 7,
   "id": "da9c461a",
   "metadata": {},
   "outputs": [
    {
     "name": "stdout",
     "output_type": "stream",
     "text": [
      "4.67\n",
      "5.66\n",
      "2.34\n",
      "5.34\n",
      "7.65\n"
     ]
    },
    {
     "data": {
      "text/plain": [
       "array([[ 4.67,  5.66,  2.34,  5.34,  7.65],\n",
       "       [65.4 , 59.3 , 44.56, 78.9 , 65.89]])"
      ]
     },
     "execution_count": 7,
     "metadata": {},
     "output_type": "execute_result"
    }
   ],
   "source": [
    "for height in np_height:\n",
    "    print(height)\n",
    "np_bmi"
   ]
  },
  {
   "cell_type": "code",
   "execution_count": 8,
   "id": "e74e15d7",
   "metadata": {},
   "outputs": [
    {
     "name": "stdout",
     "output_type": "stream",
     "text": [
      "[4.67 5.66 2.34 5.34 7.65]\n",
      "[65.4  59.3  44.56 78.9  65.89]\n"
     ]
    }
   ],
   "source": [
    "for val in np_bmi:\n",
    "    print(val)"
   ]
  },
  {
   "cell_type": "code",
   "execution_count": 21,
   "id": "12d7e230",
   "metadata": {},
   "outputs": [
    {
     "name": "stdout",
     "output_type": "stream",
     "text": [
      "[ 4.67 65.4 ]\n",
      "[ 5.66 59.3 ]\n",
      "[ 2.34 44.56]\n",
      "[ 5.34 78.9 ]\n",
      "[ 7.65 65.89]\n"
     ]
    }
   ],
   "source": [
    "for val in np_person:\n",
    "    print(val)"
   ]
  },
  {
   "cell_type": "code",
   "execution_count": 12,
   "id": "766a4d00",
   "metadata": {},
   "outputs": [
    {
     "name": "stdout",
     "output_type": "stream",
     "text": [
      "4.67\n",
      "65.4\n",
      "5.66\n",
      "59.3\n",
      "2.34\n",
      "44.56\n",
      "5.34\n",
      "78.9\n",
      "7.65\n",
      "65.89\n"
     ]
    }
   ],
   "source": [
    "#TO get every element of a numpy array\n",
    "\n",
    "#column stack >>> height, weight, height, weight\n",
    "for val in np.nditer(np_person):\n",
    "    print(val)"
   ]
  },
  {
   "cell_type": "code",
   "execution_count": 9,
   "id": "05efe657",
   "metadata": {
    "scrolled": true
   },
   "outputs": [
    {
     "name": "stdout",
     "output_type": "stream",
     "text": [
      "4.67\n",
      "5.66\n",
      "2.34\n",
      "5.34\n",
      "7.65\n",
      "65.4\n",
      "59.3\n",
      "44.56\n",
      "78.9\n",
      "65.89\n"
     ]
    },
    {
     "data": {
      "text/plain": [
       "array([[ 4.67,  5.66,  2.34,  5.34,  7.65],\n",
       "       [65.4 , 59.3 , 44.56, 78.9 , 65.89]])"
      ]
     },
     "execution_count": 9,
     "metadata": {},
     "output_type": "execute_result"
    }
   ],
   "source": [
    "#row stack >>>only height and then only weight\n",
    "for val in np.nditer(np_bmi):\n",
    "    print(val)\n",
    "np_bmi"
   ]
  },
  {
   "cell_type": "code",
   "execution_count": 2,
   "id": "ecbd52d8",
   "metadata": {},
   "outputs": [
    {
     "data": {
      "text/html": [
       "<div>\n",
       "<style scoped>\n",
       "    .dataframe tbody tr th:only-of-type {\n",
       "        vertical-align: middle;\n",
       "    }\n",
       "\n",
       "    .dataframe tbody tr th {\n",
       "        vertical-align: top;\n",
       "    }\n",
       "\n",
       "    .dataframe thead th {\n",
       "        text-align: right;\n",
       "    }\n",
       "</style>\n",
       "<table border=\"1\" class=\"dataframe\">\n",
       "  <thead>\n",
       "    <tr style=\"text-align: right;\">\n",
       "      <th></th>\n",
       "      <th>country</th>\n",
       "      <th>capital</th>\n",
       "      <th>area</th>\n",
       "      <th>population</th>\n",
       "    </tr>\n",
       "  </thead>\n",
       "  <tbody>\n",
       "    <tr>\n",
       "      <th>BR</th>\n",
       "      <td>Brazil</td>\n",
       "      <td>Brasilia</td>\n",
       "      <td>8.90</td>\n",
       "      <td>200.4</td>\n",
       "    </tr>\n",
       "    <tr>\n",
       "      <th>RU</th>\n",
       "      <td>Russia</td>\n",
       "      <td>Moscow</td>\n",
       "      <td>14.60</td>\n",
       "      <td>147.5</td>\n",
       "    </tr>\n",
       "    <tr>\n",
       "      <th>GR</th>\n",
       "      <td>Germany</td>\n",
       "      <td>Berlin</td>\n",
       "      <td>5.60</td>\n",
       "      <td>60.5</td>\n",
       "    </tr>\n",
       "    <tr>\n",
       "      <th>IN</th>\n",
       "      <td>India</td>\n",
       "      <td>New Delhi</td>\n",
       "      <td>5.46</td>\n",
       "      <td>1225.0</td>\n",
       "    </tr>\n",
       "    <tr>\n",
       "      <th>NW</th>\n",
       "      <td>Norway</td>\n",
       "      <td>Olso</td>\n",
       "      <td>5.67</td>\n",
       "      <td>80.6</td>\n",
       "    </tr>\n",
       "  </tbody>\n",
       "</table>\n",
       "</div>"
      ],
      "text/plain": [
       "    country    capital   area  population\n",
       "BR   Brazil   Brasilia   8.90       200.4\n",
       "RU   Russia     Moscow  14.60       147.5\n",
       "GR  Germany     Berlin   5.60        60.5\n",
       "IN    India  New Delhi   5.46      1225.0\n",
       "NW   Norway       Olso   5.67        80.6"
      ]
     },
     "execution_count": 2,
     "metadata": {},
     "output_type": "execute_result"
    }
   ],
   "source": [
    "import pandas as pd\n",
    "\n",
    "brics=pd.read_csv(\"brics.csv\",index_col=0)\n",
    "brics"
   ]
  },
  {
   "cell_type": "code",
   "execution_count": 15,
   "id": "226ea611",
   "metadata": {},
   "outputs": [
    {
     "name": "stdout",
     "output_type": "stream",
     "text": [
      "country\n",
      "capital\n",
      "area\n",
      "population\n"
     ]
    }
   ],
   "source": [
    "for val in brics:\n",
    "    print(val)"
   ]
  },
  {
   "cell_type": "code",
   "execution_count": 16,
   "id": "9801cb6d",
   "metadata": {},
   "outputs": [
    {
     "name": "stdout",
     "output_type": "stream",
     "text": [
      "BR\n",
      "country         Brazil\n",
      "capital       Brasilia\n",
      "area               8.9\n",
      "population       200.4\n",
      "Name: BR, dtype: object\n",
      "RU\n",
      "country       Russia\n",
      "capital       Moscow\n",
      "area            14.6\n",
      "population     147.5\n",
      "Name: RU, dtype: object\n",
      "GR\n",
      "country       Germany\n",
      "capital        Berlin\n",
      "area              5.6\n",
      "population       60.5\n",
      "Name: GR, dtype: object\n",
      "IN\n",
      "country           India\n",
      "capital       New Delhi\n",
      "area               5.46\n",
      "population       1225.0\n",
      "Name: IN, dtype: object\n",
      "NW\n",
      "country       Norway\n",
      "capital         Olso\n",
      "area            5.67\n",
      "population      80.6\n",
      "Name: NW, dtype: object\n"
     ]
    }
   ],
   "source": [
    "for lab,row in brics.iterrows():\n",
    "    print(lab)\n",
    "    print(row)"
   ]
  },
  {
   "cell_type": "code",
   "execution_count": 8,
   "id": "ccadee37",
   "metadata": {},
   "outputs": [
    {
     "name": "stdout",
     "output_type": "stream",
     "text": [
      "BR:True\n",
      "RU:True\n",
      "GR:False\n",
      "IN:False\n",
      "NW:False\n"
     ]
    }
   ],
   "source": [
    "#only country name\n",
    "for lab,row in brics.iterrows():\n",
    "    print(lab+\":\"+ str(row['area']>6))\n",
    "    \n"
   ]
  },
  {
   "cell_type": "code",
   "execution_count": 34,
   "id": "955666ce",
   "metadata": {},
   "outputs": [
    {
     "data": {
      "text/plain": [
       "'for lab,row in brics.iterrows():\\n    #brics.iloc[:,4]=len(row[0])\\n#brics\\n'"
      ]
     },
     "execution_count": 34,
     "metadata": {},
     "output_type": "execute_result"
    }
   ],
   "source": [
    "\"\"\"for lab,row in brics.iterrows():\n",
    "    #brics.iloc[:,4]=len(row[0])\n",
    "#brics\n",
    "\"\"\""
   ]
  },
  {
   "cell_type": "code",
   "execution_count": 5,
   "id": "c6af1f6f",
   "metadata": {},
   "outputs": [
    {
     "data": {
      "text/html": [
       "<div>\n",
       "<style scoped>\n",
       "    .dataframe tbody tr th:only-of-type {\n",
       "        vertical-align: middle;\n",
       "    }\n",
       "\n",
       "    .dataframe tbody tr th {\n",
       "        vertical-align: top;\n",
       "    }\n",
       "\n",
       "    .dataframe thead th {\n",
       "        text-align: right;\n",
       "    }\n",
       "</style>\n",
       "<table border=\"1\" class=\"dataframe\">\n",
       "  <thead>\n",
       "    <tr style=\"text-align: right;\">\n",
       "      <th></th>\n",
       "      <th>country</th>\n",
       "      <th>capital</th>\n",
       "      <th>area</th>\n",
       "      <th>population</th>\n",
       "      <th>name_length</th>\n",
       "    </tr>\n",
       "  </thead>\n",
       "  <tbody>\n",
       "    <tr>\n",
       "      <th>BR</th>\n",
       "      <td>Brazil</td>\n",
       "      <td>Brasilia</td>\n",
       "      <td>8.90</td>\n",
       "      <td>200.4</td>\n",
       "      <td>6</td>\n",
       "    </tr>\n",
       "    <tr>\n",
       "      <th>RU</th>\n",
       "      <td>Russia</td>\n",
       "      <td>Moscow</td>\n",
       "      <td>14.60</td>\n",
       "      <td>147.5</td>\n",
       "      <td>6</td>\n",
       "    </tr>\n",
       "    <tr>\n",
       "      <th>GR</th>\n",
       "      <td>Germany</td>\n",
       "      <td>Berlin</td>\n",
       "      <td>5.60</td>\n",
       "      <td>60.5</td>\n",
       "      <td>7</td>\n",
       "    </tr>\n",
       "    <tr>\n",
       "      <th>IN</th>\n",
       "      <td>India</td>\n",
       "      <td>New Delhi</td>\n",
       "      <td>5.46</td>\n",
       "      <td>1225.0</td>\n",
       "      <td>5</td>\n",
       "    </tr>\n",
       "    <tr>\n",
       "      <th>NW</th>\n",
       "      <td>Norway</td>\n",
       "      <td>Olso</td>\n",
       "      <td>5.67</td>\n",
       "      <td>80.6</td>\n",
       "      <td>6</td>\n",
       "    </tr>\n",
       "  </tbody>\n",
       "</table>\n",
       "</div>"
      ],
      "text/plain": [
       "    country    capital   area  population  name_length\n",
       "BR   Brazil   Brasilia   8.90       200.4            6\n",
       "RU   Russia     Moscow  14.60       147.5            6\n",
       "GR  Germany     Berlin   5.60        60.5            7\n",
       "IN    India  New Delhi   5.46      1225.0            5\n",
       "NW   Norway       Olso   5.67        80.6            6"
      ]
     },
     "execution_count": 5,
     "metadata": {},
     "output_type": "execute_result"
    }
   ],
   "source": [
    "#apply function to add new column\n",
    "brics['name_length']=brics['country'].apply(len)\n",
    "brics"
   ]
  },
  {
   "cell_type": "code",
   "execution_count": 6,
   "id": "2c3f7a12",
   "metadata": {},
   "outputs": [
    {
     "data": {
      "text/html": [
       "<div>\n",
       "<style scoped>\n",
       "    .dataframe tbody tr th:only-of-type {\n",
       "        vertical-align: middle;\n",
       "    }\n",
       "\n",
       "    .dataframe tbody tr th {\n",
       "        vertical-align: top;\n",
       "    }\n",
       "\n",
       "    .dataframe thead th {\n",
       "        text-align: right;\n",
       "    }\n",
       "</style>\n",
       "<table border=\"1\" class=\"dataframe\">\n",
       "  <thead>\n",
       "    <tr style=\"text-align: right;\">\n",
       "      <th></th>\n",
       "      <th>country</th>\n",
       "      <th>capital</th>\n",
       "      <th>area</th>\n",
       "      <th>population</th>\n",
       "      <th>name_length</th>\n",
       "      <th>COUNTRY</th>\n",
       "    </tr>\n",
       "  </thead>\n",
       "  <tbody>\n",
       "    <tr>\n",
       "      <th>BR</th>\n",
       "      <td>Brazil</td>\n",
       "      <td>Brasilia</td>\n",
       "      <td>8.90</td>\n",
       "      <td>200.4</td>\n",
       "      <td>6</td>\n",
       "      <td>BRAZIL</td>\n",
       "    </tr>\n",
       "    <tr>\n",
       "      <th>RU</th>\n",
       "      <td>Russia</td>\n",
       "      <td>Moscow</td>\n",
       "      <td>14.60</td>\n",
       "      <td>147.5</td>\n",
       "      <td>6</td>\n",
       "      <td>RUSSIA</td>\n",
       "    </tr>\n",
       "    <tr>\n",
       "      <th>GR</th>\n",
       "      <td>Germany</td>\n",
       "      <td>Berlin</td>\n",
       "      <td>5.60</td>\n",
       "      <td>60.5</td>\n",
       "      <td>7</td>\n",
       "      <td>GERMANY</td>\n",
       "    </tr>\n",
       "    <tr>\n",
       "      <th>IN</th>\n",
       "      <td>India</td>\n",
       "      <td>New Delhi</td>\n",
       "      <td>5.46</td>\n",
       "      <td>1225.0</td>\n",
       "      <td>5</td>\n",
       "      <td>INDIA</td>\n",
       "    </tr>\n",
       "    <tr>\n",
       "      <th>NW</th>\n",
       "      <td>Norway</td>\n",
       "      <td>Olso</td>\n",
       "      <td>5.67</td>\n",
       "      <td>80.6</td>\n",
       "      <td>6</td>\n",
       "      <td>NORWAY</td>\n",
       "    </tr>\n",
       "  </tbody>\n",
       "</table>\n",
       "</div>"
      ],
      "text/plain": [
       "    country    capital   area  population  name_length  COUNTRY\n",
       "BR   Brazil   Brasilia   8.90       200.4            6   BRAZIL\n",
       "RU   Russia     Moscow  14.60       147.5            6   RUSSIA\n",
       "GR  Germany     Berlin   5.60        60.5            7  GERMANY\n",
       "IN    India  New Delhi   5.46      1225.0            5    INDIA\n",
       "NW   Norway       Olso   5.67        80.6            6   NORWAY"
      ]
     },
     "execution_count": 6,
     "metadata": {},
     "output_type": "execute_result"
    }
   ],
   "source": [
    "for lab,row in brics.iterrows():\n",
    "    brics.loc[lab,'COUNTRY']=row['country'].upper()\n",
    "brics"
   ]
  },
  {
   "cell_type": "code",
   "execution_count": 7,
   "id": "6b98cd23",
   "metadata": {},
   "outputs": [
    {
     "data": {
      "text/html": [
       "<div>\n",
       "<style scoped>\n",
       "    .dataframe tbody tr th:only-of-type {\n",
       "        vertical-align: middle;\n",
       "    }\n",
       "\n",
       "    .dataframe tbody tr th {\n",
       "        vertical-align: top;\n",
       "    }\n",
       "\n",
       "    .dataframe thead th {\n",
       "        text-align: right;\n",
       "    }\n",
       "</style>\n",
       "<table border=\"1\" class=\"dataframe\">\n",
       "  <thead>\n",
       "    <tr style=\"text-align: right;\">\n",
       "      <th></th>\n",
       "      <th>country</th>\n",
       "      <th>capital</th>\n",
       "      <th>area</th>\n",
       "      <th>population</th>\n",
       "      <th>name_length</th>\n",
       "      <th>COUNTRY</th>\n",
       "      <th>CAPITAL</th>\n",
       "    </tr>\n",
       "  </thead>\n",
       "  <tbody>\n",
       "    <tr>\n",
       "      <th>BR</th>\n",
       "      <td>Brazil</td>\n",
       "      <td>Brasilia</td>\n",
       "      <td>8.90</td>\n",
       "      <td>200.4</td>\n",
       "      <td>6</td>\n",
       "      <td>BRAZIL</td>\n",
       "      <td>BRASILIA</td>\n",
       "    </tr>\n",
       "    <tr>\n",
       "      <th>RU</th>\n",
       "      <td>Russia</td>\n",
       "      <td>Moscow</td>\n",
       "      <td>14.60</td>\n",
       "      <td>147.5</td>\n",
       "      <td>6</td>\n",
       "      <td>RUSSIA</td>\n",
       "      <td>MOSCOW</td>\n",
       "    </tr>\n",
       "    <tr>\n",
       "      <th>GR</th>\n",
       "      <td>Germany</td>\n",
       "      <td>Berlin</td>\n",
       "      <td>5.60</td>\n",
       "      <td>60.5</td>\n",
       "      <td>7</td>\n",
       "      <td>GERMANY</td>\n",
       "      <td>BERLIN</td>\n",
       "    </tr>\n",
       "    <tr>\n",
       "      <th>IN</th>\n",
       "      <td>India</td>\n",
       "      <td>New Delhi</td>\n",
       "      <td>5.46</td>\n",
       "      <td>1225.0</td>\n",
       "      <td>5</td>\n",
       "      <td>INDIA</td>\n",
       "      <td>NEW DELHI</td>\n",
       "    </tr>\n",
       "    <tr>\n",
       "      <th>NW</th>\n",
       "      <td>Norway</td>\n",
       "      <td>Olso</td>\n",
       "      <td>5.67</td>\n",
       "      <td>80.6</td>\n",
       "      <td>6</td>\n",
       "      <td>NORWAY</td>\n",
       "      <td>OLSO</td>\n",
       "    </tr>\n",
       "  </tbody>\n",
       "</table>\n",
       "</div>"
      ],
      "text/plain": [
       "    country    capital   area  population  name_length  COUNTRY    CAPITAL\n",
       "BR   Brazil   Brasilia   8.90       200.4            6   BRAZIL   BRASILIA\n",
       "RU   Russia     Moscow  14.60       147.5            6   RUSSIA     MOSCOW\n",
       "GR  Germany     Berlin   5.60        60.5            7  GERMANY     BERLIN\n",
       "IN    India  New Delhi   5.46      1225.0            5    INDIA  NEW DELHI\n",
       "NW   Norway       Olso   5.67        80.6            6   NORWAY       OLSO"
      ]
     },
     "execution_count": 7,
     "metadata": {},
     "output_type": "execute_result"
    }
   ],
   "source": [
    "brics['CAPITAL']=brics['capital'].apply(lambda x:x.upper())\n",
    "# or\n",
    "\n",
    "#brics['CAPITAL']=brics['capital'].apply(str.upper)\n",
    "brics"
   ]
  },
  {
   "cell_type": "code",
   "execution_count": 8,
   "id": "271e2a87",
   "metadata": {},
   "outputs": [
    {
     "data": {
      "text/html": [
       "<div>\n",
       "<style scoped>\n",
       "    .dataframe tbody tr th:only-of-type {\n",
       "        vertical-align: middle;\n",
       "    }\n",
       "\n",
       "    .dataframe tbody tr th {\n",
       "        vertical-align: top;\n",
       "    }\n",
       "\n",
       "    .dataframe thead th {\n",
       "        text-align: right;\n",
       "    }\n",
       "</style>\n",
       "<table border=\"1\" class=\"dataframe\">\n",
       "  <thead>\n",
       "    <tr style=\"text-align: right;\">\n",
       "      <th></th>\n",
       "      <th>country</th>\n",
       "      <th>capital</th>\n",
       "      <th>area</th>\n",
       "      <th>population</th>\n",
       "      <th>name_length</th>\n",
       "      <th>COUNTRY</th>\n",
       "      <th>CAPITAL</th>\n",
       "      <th>capital_with_y</th>\n",
       "    </tr>\n",
       "  </thead>\n",
       "  <tbody>\n",
       "    <tr>\n",
       "      <th>BR</th>\n",
       "      <td>Brazil</td>\n",
       "      <td>Brasilia</td>\n",
       "      <td>8.90</td>\n",
       "      <td>200.4</td>\n",
       "      <td>6</td>\n",
       "      <td>BRAZIL</td>\n",
       "      <td>BRASILIA</td>\n",
       "      <td>BRASYLYA</td>\n",
       "    </tr>\n",
       "    <tr>\n",
       "      <th>RU</th>\n",
       "      <td>Russia</td>\n",
       "      <td>Moscow</td>\n",
       "      <td>14.60</td>\n",
       "      <td>147.5</td>\n",
       "      <td>6</td>\n",
       "      <td>RUSSIA</td>\n",
       "      <td>MOSCOW</td>\n",
       "      <td>MOSCOW</td>\n",
       "    </tr>\n",
       "    <tr>\n",
       "      <th>GR</th>\n",
       "      <td>Germany</td>\n",
       "      <td>Berlin</td>\n",
       "      <td>5.60</td>\n",
       "      <td>60.5</td>\n",
       "      <td>7</td>\n",
       "      <td>GERMANY</td>\n",
       "      <td>BERLIN</td>\n",
       "      <td>BERLYN</td>\n",
       "    </tr>\n",
       "    <tr>\n",
       "      <th>IN</th>\n",
       "      <td>India</td>\n",
       "      <td>New Delhi</td>\n",
       "      <td>5.46</td>\n",
       "      <td>1225.0</td>\n",
       "      <td>5</td>\n",
       "      <td>INDIA</td>\n",
       "      <td>NEW DELHI</td>\n",
       "      <td>NEW DELHY</td>\n",
       "    </tr>\n",
       "    <tr>\n",
       "      <th>NW</th>\n",
       "      <td>Norway</td>\n",
       "      <td>Olso</td>\n",
       "      <td>5.67</td>\n",
       "      <td>80.6</td>\n",
       "      <td>6</td>\n",
       "      <td>NORWAY</td>\n",
       "      <td>OLSO</td>\n",
       "      <td>OLSO</td>\n",
       "    </tr>\n",
       "  </tbody>\n",
       "</table>\n",
       "</div>"
      ],
      "text/plain": [
       "    country    capital   area  population  name_length  COUNTRY    CAPITAL  \\\n",
       "BR   Brazil   Brasilia   8.90       200.4            6   BRAZIL   BRASILIA   \n",
       "RU   Russia     Moscow  14.60       147.5            6   RUSSIA     MOSCOW   \n",
       "GR  Germany     Berlin   5.60        60.5            7  GERMANY     BERLIN   \n",
       "IN    India  New Delhi   5.46      1225.0            5    INDIA  NEW DELHI   \n",
       "NW   Norway       Olso   5.67        80.6            6   NORWAY       OLSO   \n",
       "\n",
       "   capital_with_y  \n",
       "BR       BRASYLYA  \n",
       "RU         MOSCOW  \n",
       "GR         BERLYN  \n",
       "IN      NEW DELHY  \n",
       "NW           OLSO  "
      ]
     },
     "execution_count": 8,
     "metadata": {},
     "output_type": "execute_result"
    }
   ],
   "source": [
    "brics['capital_with_y']=brics['CAPITAL'].apply(lambda x:x.replace(\"I\",\"Y\"))\n",
    "brics"
   ]
  },
  {
   "cell_type": "code",
   "execution_count": 9,
   "id": "5b59bc90",
   "metadata": {},
   "outputs": [
    {
     "data": {
      "text/html": [
       "<div>\n",
       "<style scoped>\n",
       "    .dataframe tbody tr th:only-of-type {\n",
       "        vertical-align: middle;\n",
       "    }\n",
       "\n",
       "    .dataframe tbody tr th {\n",
       "        vertical-align: top;\n",
       "    }\n",
       "\n",
       "    .dataframe thead th {\n",
       "        text-align: right;\n",
       "    }\n",
       "</style>\n",
       "<table border=\"1\" class=\"dataframe\">\n",
       "  <thead>\n",
       "    <tr style=\"text-align: right;\">\n",
       "      <th></th>\n",
       "      <th>country</th>\n",
       "      <th>capital</th>\n",
       "      <th>area</th>\n",
       "      <th>population</th>\n",
       "      <th>name_length</th>\n",
       "      <th>COUNTRY</th>\n",
       "      <th>CAPITAL</th>\n",
       "      <th>capital_with_y</th>\n",
       "      <th>lower_country</th>\n",
       "    </tr>\n",
       "  </thead>\n",
       "  <tbody>\n",
       "    <tr>\n",
       "      <th>BR</th>\n",
       "      <td>Brazil</td>\n",
       "      <td>Brasilia</td>\n",
       "      <td>8.90</td>\n",
       "      <td>200.4</td>\n",
       "      <td>6</td>\n",
       "      <td>BRAZIL</td>\n",
       "      <td>BRASILIA</td>\n",
       "      <td>BRASYLYA</td>\n",
       "      <td>brazil</td>\n",
       "    </tr>\n",
       "    <tr>\n",
       "      <th>RU</th>\n",
       "      <td>Russia</td>\n",
       "      <td>Moscow</td>\n",
       "      <td>14.60</td>\n",
       "      <td>147.5</td>\n",
       "      <td>6</td>\n",
       "      <td>RUSSIA</td>\n",
       "      <td>MOSCOW</td>\n",
       "      <td>MOSCOW</td>\n",
       "      <td>russia</td>\n",
       "    </tr>\n",
       "    <tr>\n",
       "      <th>GR</th>\n",
       "      <td>Germany</td>\n",
       "      <td>Berlin</td>\n",
       "      <td>5.60</td>\n",
       "      <td>60.5</td>\n",
       "      <td>7</td>\n",
       "      <td>GERMANY</td>\n",
       "      <td>BERLIN</td>\n",
       "      <td>BERLYN</td>\n",
       "      <td>germany</td>\n",
       "    </tr>\n",
       "    <tr>\n",
       "      <th>IN</th>\n",
       "      <td>India</td>\n",
       "      <td>New Delhi</td>\n",
       "      <td>5.46</td>\n",
       "      <td>1225.0</td>\n",
       "      <td>5</td>\n",
       "      <td>INDIA</td>\n",
       "      <td>NEW DELHI</td>\n",
       "      <td>NEW DELHY</td>\n",
       "      <td>india</td>\n",
       "    </tr>\n",
       "    <tr>\n",
       "      <th>NW</th>\n",
       "      <td>Norway</td>\n",
       "      <td>Olso</td>\n",
       "      <td>5.67</td>\n",
       "      <td>80.6</td>\n",
       "      <td>6</td>\n",
       "      <td>NORWAY</td>\n",
       "      <td>OLSO</td>\n",
       "      <td>OLSO</td>\n",
       "      <td>norway</td>\n",
       "    </tr>\n",
       "  </tbody>\n",
       "</table>\n",
       "</div>"
      ],
      "text/plain": [
       "    country    capital   area  population  name_length  COUNTRY    CAPITAL  \\\n",
       "BR   Brazil   Brasilia   8.90       200.4            6   BRAZIL   BRASILIA   \n",
       "RU   Russia     Moscow  14.60       147.5            6   RUSSIA     MOSCOW   \n",
       "GR  Germany     Berlin   5.60        60.5            7  GERMANY     BERLIN   \n",
       "IN    India  New Delhi   5.46      1225.0            5    INDIA  NEW DELHI   \n",
       "NW   Norway       Olso   5.67        80.6            6   NORWAY       OLSO   \n",
       "\n",
       "   capital_with_y lower_country  \n",
       "BR       BRASYLYA        brazil  \n",
       "RU         MOSCOW        russia  \n",
       "GR         BERLYN       germany  \n",
       "IN      NEW DELHY         india  \n",
       "NW           OLSO        norway  "
      ]
     },
     "execution_count": 9,
     "metadata": {},
     "output_type": "execute_result"
    }
   ],
   "source": [
    "for lab,row in brics.iterrows():\n",
    "    brics.loc[lab,'lower_country']=row['country'].lower()\n",
    "brics"
   ]
  },
  {
   "cell_type": "code",
   "execution_count": 10,
   "id": "a95e37dd",
   "metadata": {},
   "outputs": [
    {
     "data": {
      "text/html": [
       "<div>\n",
       "<style scoped>\n",
       "    .dataframe tbody tr th:only-of-type {\n",
       "        vertical-align: middle;\n",
       "    }\n",
       "\n",
       "    .dataframe tbody tr th {\n",
       "        vertical-align: top;\n",
       "    }\n",
       "\n",
       "    .dataframe thead th {\n",
       "        text-align: right;\n",
       "    }\n",
       "</style>\n",
       "<table border=\"1\" class=\"dataframe\">\n",
       "  <thead>\n",
       "    <tr style=\"text-align: right;\">\n",
       "      <th></th>\n",
       "      <th>country</th>\n",
       "      <th>capital</th>\n",
       "      <th>area</th>\n",
       "      <th>population</th>\n",
       "      <th>name_length</th>\n",
       "      <th>COUNTRY</th>\n",
       "      <th>CAPITAL</th>\n",
       "      <th>capital_with_y</th>\n",
       "      <th>lower_country</th>\n",
       "      <th>Count-a</th>\n",
       "    </tr>\n",
       "  </thead>\n",
       "  <tbody>\n",
       "    <tr>\n",
       "      <th>BR</th>\n",
       "      <td>Brazil</td>\n",
       "      <td>Brasilia</td>\n",
       "      <td>8.90</td>\n",
       "      <td>200.4</td>\n",
       "      <td>6</td>\n",
       "      <td>BRAZIL</td>\n",
       "      <td>BRASILIA</td>\n",
       "      <td>BRASYLYA</td>\n",
       "      <td>brazil</td>\n",
       "      <td>2</td>\n",
       "    </tr>\n",
       "    <tr>\n",
       "      <th>RU</th>\n",
       "      <td>Russia</td>\n",
       "      <td>Moscow</td>\n",
       "      <td>14.60</td>\n",
       "      <td>147.5</td>\n",
       "      <td>6</td>\n",
       "      <td>RUSSIA</td>\n",
       "      <td>MOSCOW</td>\n",
       "      <td>MOSCOW</td>\n",
       "      <td>russia</td>\n",
       "      <td>0</td>\n",
       "    </tr>\n",
       "    <tr>\n",
       "      <th>GR</th>\n",
       "      <td>Germany</td>\n",
       "      <td>Berlin</td>\n",
       "      <td>5.60</td>\n",
       "      <td>60.5</td>\n",
       "      <td>7</td>\n",
       "      <td>GERMANY</td>\n",
       "      <td>BERLIN</td>\n",
       "      <td>BERLYN</td>\n",
       "      <td>germany</td>\n",
       "      <td>0</td>\n",
       "    </tr>\n",
       "    <tr>\n",
       "      <th>IN</th>\n",
       "      <td>India</td>\n",
       "      <td>New Delhi</td>\n",
       "      <td>5.46</td>\n",
       "      <td>1225.0</td>\n",
       "      <td>5</td>\n",
       "      <td>INDIA</td>\n",
       "      <td>NEW DELHI</td>\n",
       "      <td>NEW DELHY</td>\n",
       "      <td>india</td>\n",
       "      <td>0</td>\n",
       "    </tr>\n",
       "    <tr>\n",
       "      <th>NW</th>\n",
       "      <td>Norway</td>\n",
       "      <td>Olso</td>\n",
       "      <td>5.67</td>\n",
       "      <td>80.6</td>\n",
       "      <td>6</td>\n",
       "      <td>NORWAY</td>\n",
       "      <td>OLSO</td>\n",
       "      <td>OLSO</td>\n",
       "      <td>norway</td>\n",
       "      <td>0</td>\n",
       "    </tr>\n",
       "  </tbody>\n",
       "</table>\n",
       "</div>"
      ],
      "text/plain": [
       "    country    capital   area  population  name_length  COUNTRY    CAPITAL  \\\n",
       "BR   Brazil   Brasilia   8.90       200.4            6   BRAZIL   BRASILIA   \n",
       "RU   Russia     Moscow  14.60       147.5            6   RUSSIA     MOSCOW   \n",
       "GR  Germany     Berlin   5.60        60.5            7  GERMANY     BERLIN   \n",
       "IN    India  New Delhi   5.46      1225.0            5    INDIA  NEW DELHI   \n",
       "NW   Norway       Olso   5.67        80.6            6   NORWAY       OLSO   \n",
       "\n",
       "   capital_with_y lower_country  Count-a  \n",
       "BR       BRASYLYA        brazil        2  \n",
       "RU         MOSCOW        russia        0  \n",
       "GR         BERLYN       germany        0  \n",
       "IN      NEW DELHY         india        0  \n",
       "NW           OLSO        norway        0  "
      ]
     },
     "execution_count": 10,
     "metadata": {},
     "output_type": "execute_result"
    }
   ],
   "source": [
    "brics['Count-a']=brics['capital'].apply(lambda x : x.count('a'))\n",
    "brics"
   ]
  },
  {
   "cell_type": "code",
   "execution_count": 13,
   "id": "f64fce8f",
   "metadata": {},
   "outputs": [
    {
     "data": {
      "text/html": [
       "<div>\n",
       "<style scoped>\n",
       "    .dataframe tbody tr th:only-of-type {\n",
       "        vertical-align: middle;\n",
       "    }\n",
       "\n",
       "    .dataframe tbody tr th {\n",
       "        vertical-align: top;\n",
       "    }\n",
       "\n",
       "    .dataframe thead th {\n",
       "        text-align: right;\n",
       "    }\n",
       "</style>\n",
       "<table border=\"1\" class=\"dataframe\">\n",
       "  <thead>\n",
       "    <tr style=\"text-align: right;\">\n",
       "      <th></th>\n",
       "      <th>country</th>\n",
       "      <th>capital</th>\n",
       "      <th>area</th>\n",
       "      <th>population</th>\n",
       "      <th>name_length</th>\n",
       "      <th>COUNTRY</th>\n",
       "      <th>CAPITAL</th>\n",
       "      <th>capital_with_y</th>\n",
       "      <th>lower_country</th>\n",
       "      <th>Count-a</th>\n",
       "      <th>Greater-6</th>\n",
       "    </tr>\n",
       "  </thead>\n",
       "  <tbody>\n",
       "    <tr>\n",
       "      <th>BR</th>\n",
       "      <td>Brazil</td>\n",
       "      <td>Brasilia</td>\n",
       "      <td>8.90</td>\n",
       "      <td>200.4</td>\n",
       "      <td>6</td>\n",
       "      <td>BRAZIL</td>\n",
       "      <td>BRASILIA</td>\n",
       "      <td>BRASYLYA</td>\n",
       "      <td>brazil</td>\n",
       "      <td>2</td>\n",
       "      <td>8.9</td>\n",
       "    </tr>\n",
       "    <tr>\n",
       "      <th>RU</th>\n",
       "      <td>Russia</td>\n",
       "      <td>Moscow</td>\n",
       "      <td>14.60</td>\n",
       "      <td>147.5</td>\n",
       "      <td>6</td>\n",
       "      <td>RUSSIA</td>\n",
       "      <td>MOSCOW</td>\n",
       "      <td>MOSCOW</td>\n",
       "      <td>russia</td>\n",
       "      <td>0</td>\n",
       "      <td>14.6</td>\n",
       "    </tr>\n",
       "    <tr>\n",
       "      <th>GR</th>\n",
       "      <td>Germany</td>\n",
       "      <td>Berlin</td>\n",
       "      <td>5.60</td>\n",
       "      <td>60.5</td>\n",
       "      <td>7</td>\n",
       "      <td>GERMANY</td>\n",
       "      <td>BERLIN</td>\n",
       "      <td>BERLYN</td>\n",
       "      <td>germany</td>\n",
       "      <td>0</td>\n",
       "      <td>0.0</td>\n",
       "    </tr>\n",
       "    <tr>\n",
       "      <th>IN</th>\n",
       "      <td>India</td>\n",
       "      <td>New Delhi</td>\n",
       "      <td>5.46</td>\n",
       "      <td>1225.0</td>\n",
       "      <td>5</td>\n",
       "      <td>INDIA</td>\n",
       "      <td>NEW DELHI</td>\n",
       "      <td>NEW DELHY</td>\n",
       "      <td>india</td>\n",
       "      <td>0</td>\n",
       "      <td>0.0</td>\n",
       "    </tr>\n",
       "    <tr>\n",
       "      <th>NW</th>\n",
       "      <td>Norway</td>\n",
       "      <td>Olso</td>\n",
       "      <td>5.67</td>\n",
       "      <td>80.6</td>\n",
       "      <td>6</td>\n",
       "      <td>NORWAY</td>\n",
       "      <td>OLSO</td>\n",
       "      <td>OLSO</td>\n",
       "      <td>norway</td>\n",
       "      <td>0</td>\n",
       "      <td>0.0</td>\n",
       "    </tr>\n",
       "  </tbody>\n",
       "</table>\n",
       "</div>"
      ],
      "text/plain": [
       "    country    capital   area  population  name_length  COUNTRY    CAPITAL  \\\n",
       "BR   Brazil   Brasilia   8.90       200.4            6   BRAZIL   BRASILIA   \n",
       "RU   Russia     Moscow  14.60       147.5            6   RUSSIA     MOSCOW   \n",
       "GR  Germany     Berlin   5.60        60.5            7  GERMANY     BERLIN   \n",
       "IN    India  New Delhi   5.46      1225.0            5    INDIA  NEW DELHI   \n",
       "NW   Norway       Olso   5.67        80.6            6   NORWAY       OLSO   \n",
       "\n",
       "   capital_with_y lower_country  Count-a  Greater-6  \n",
       "BR       BRASYLYA        brazil        2        8.9  \n",
       "RU         MOSCOW        russia        0       14.6  \n",
       "GR         BERLYN       germany        0        0.0  \n",
       "IN      NEW DELHY         india        0        0.0  \n",
       "NW           OLSO        norway        0        0.0  "
      ]
     },
     "execution_count": 13,
     "metadata": {},
     "output_type": "execute_result"
    }
   ],
   "source": [
    "brics['Greater-6']=brics['area'].apply(lambda x:x if x>6 else 0 )\n",
    "brics"
   ]
  },
  {
   "cell_type": "code",
   "execution_count": 15,
   "id": "662f458d",
   "metadata": {},
   "outputs": [
    {
     "data": {
      "text/html": [
       "<div>\n",
       "<style scoped>\n",
       "    .dataframe tbody tr th:only-of-type {\n",
       "        vertical-align: middle;\n",
       "    }\n",
       "\n",
       "    .dataframe tbody tr th {\n",
       "        vertical-align: top;\n",
       "    }\n",
       "\n",
       "    .dataframe thead th {\n",
       "        text-align: right;\n",
       "    }\n",
       "</style>\n",
       "<table border=\"1\" class=\"dataframe\">\n",
       "  <thead>\n",
       "    <tr style=\"text-align: right;\">\n",
       "      <th></th>\n",
       "      <th>country</th>\n",
       "      <th>capital</th>\n",
       "      <th>area</th>\n",
       "      <th>population</th>\n",
       "      <th>name_length</th>\n",
       "      <th>COUNTRY</th>\n",
       "      <th>CAPITAL</th>\n",
       "      <th>capital_with_y</th>\n",
       "      <th>lower_country</th>\n",
       "      <th>Count-a</th>\n",
       "      <th>Greater-6</th>\n",
       "      <th>Count_s</th>\n",
       "      <th>Count_i</th>\n",
       "    </tr>\n",
       "  </thead>\n",
       "  <tbody>\n",
       "    <tr>\n",
       "      <th>BR</th>\n",
       "      <td>Brazil</td>\n",
       "      <td>Brasilia</td>\n",
       "      <td>8.90</td>\n",
       "      <td>200.4</td>\n",
       "      <td>6</td>\n",
       "      <td>BRAZIL</td>\n",
       "      <td>BRASILIA</td>\n",
       "      <td>BRASYLYA</td>\n",
       "      <td>brazil</td>\n",
       "      <td>2</td>\n",
       "      <td>8.9</td>\n",
       "      <td>1.0</td>\n",
       "      <td>1</td>\n",
       "    </tr>\n",
       "    <tr>\n",
       "      <th>RU</th>\n",
       "      <td>Russia</td>\n",
       "      <td>Moscow</td>\n",
       "      <td>14.60</td>\n",
       "      <td>147.5</td>\n",
       "      <td>6</td>\n",
       "      <td>RUSSIA</td>\n",
       "      <td>MOSCOW</td>\n",
       "      <td>MOSCOW</td>\n",
       "      <td>russia</td>\n",
       "      <td>0</td>\n",
       "      <td>14.6</td>\n",
       "      <td>1.0</td>\n",
       "      <td>1</td>\n",
       "    </tr>\n",
       "    <tr>\n",
       "      <th>GR</th>\n",
       "      <td>Germany</td>\n",
       "      <td>Berlin</td>\n",
       "      <td>5.60</td>\n",
       "      <td>60.5</td>\n",
       "      <td>7</td>\n",
       "      <td>GERMANY</td>\n",
       "      <td>BERLIN</td>\n",
       "      <td>BERLYN</td>\n",
       "      <td>germany</td>\n",
       "      <td>0</td>\n",
       "      <td>0.0</td>\n",
       "      <td>0.0</td>\n",
       "      <td>0</td>\n",
       "    </tr>\n",
       "    <tr>\n",
       "      <th>IN</th>\n",
       "      <td>India</td>\n",
       "      <td>New Delhi</td>\n",
       "      <td>5.46</td>\n",
       "      <td>1225.0</td>\n",
       "      <td>5</td>\n",
       "      <td>INDIA</td>\n",
       "      <td>NEW DELHI</td>\n",
       "      <td>NEW DELHY</td>\n",
       "      <td>india</td>\n",
       "      <td>0</td>\n",
       "      <td>0.0</td>\n",
       "      <td>0.0</td>\n",
       "      <td>0</td>\n",
       "    </tr>\n",
       "    <tr>\n",
       "      <th>NW</th>\n",
       "      <td>Norway</td>\n",
       "      <td>Olso</td>\n",
       "      <td>5.67</td>\n",
       "      <td>80.6</td>\n",
       "      <td>6</td>\n",
       "      <td>NORWAY</td>\n",
       "      <td>OLSO</td>\n",
       "      <td>OLSO</td>\n",
       "      <td>norway</td>\n",
       "      <td>0</td>\n",
       "      <td>0.0</td>\n",
       "      <td>1.0</td>\n",
       "      <td>1</td>\n",
       "    </tr>\n",
       "  </tbody>\n",
       "</table>\n",
       "</div>"
      ],
      "text/plain": [
       "    country    capital   area  population  name_length  COUNTRY    CAPITAL  \\\n",
       "BR   Brazil   Brasilia   8.90       200.4            6   BRAZIL   BRASILIA   \n",
       "RU   Russia     Moscow  14.60       147.5            6   RUSSIA     MOSCOW   \n",
       "GR  Germany     Berlin   5.60        60.5            7  GERMANY     BERLIN   \n",
       "IN    India  New Delhi   5.46      1225.0            5    INDIA  NEW DELHI   \n",
       "NW   Norway       Olso   5.67        80.6            6   NORWAY       OLSO   \n",
       "\n",
       "   capital_with_y lower_country  Count-a  Greater-6  Count_s  Count_i  \n",
       "BR       BRASYLYA        brazil        2        8.9      1.0        1  \n",
       "RU         MOSCOW        russia        0       14.6      1.0        1  \n",
       "GR         BERLYN       germany        0        0.0      0.0        0  \n",
       "IN      NEW DELHY         india        0        0.0      0.0        0  \n",
       "NW           OLSO        norway        0        0.0      1.0        1  "
      ]
     },
     "execution_count": 15,
     "metadata": {},
     "output_type": "execute_result"
    }
   ],
   "source": [
    "for lab,row in brics.iterrows():\n",
    "    brics.loc[lab,'Count_s']=row['capital'].count('s')\n",
    "brics['Count_i']=brics['capital'].apply(lambda x: x.count('s'))\n",
    "brics"
   ]
  },
  {
   "cell_type": "code",
   "execution_count": 9,
   "id": "9fafdcae",
   "metadata": {},
   "outputs": [
    {
     "data": {
      "text/html": [
       "<div>\n",
       "<style scoped>\n",
       "    .dataframe tbody tr th:only-of-type {\n",
       "        vertical-align: middle;\n",
       "    }\n",
       "\n",
       "    .dataframe tbody tr th {\n",
       "        vertical-align: top;\n",
       "    }\n",
       "\n",
       "    .dataframe thead th {\n",
       "        text-align: right;\n",
       "    }\n",
       "</style>\n",
       "<table border=\"1\" class=\"dataframe\">\n",
       "  <thead>\n",
       "    <tr style=\"text-align: right;\">\n",
       "      <th></th>\n",
       "      <th>country</th>\n",
       "      <th>capital</th>\n",
       "      <th>area</th>\n",
       "      <th>population</th>\n",
       "      <th>new_col</th>\n",
       "    </tr>\n",
       "  </thead>\n",
       "  <tbody>\n",
       "    <tr>\n",
       "      <th>BR</th>\n",
       "      <td>Brazil</td>\n",
       "      <td>Brasilia</td>\n",
       "      <td>8.90</td>\n",
       "      <td>200.4</td>\n",
       "      <td>190.4</td>\n",
       "    </tr>\n",
       "    <tr>\n",
       "      <th>RU</th>\n",
       "      <td>Russia</td>\n",
       "      <td>Moscow</td>\n",
       "      <td>14.60</td>\n",
       "      <td>147.5</td>\n",
       "      <td>137.5</td>\n",
       "    </tr>\n",
       "    <tr>\n",
       "      <th>GR</th>\n",
       "      <td>Germany</td>\n",
       "      <td>Berlin</td>\n",
       "      <td>5.60</td>\n",
       "      <td>60.5</td>\n",
       "      <td>50.5</td>\n",
       "    </tr>\n",
       "    <tr>\n",
       "      <th>IN</th>\n",
       "      <td>India</td>\n",
       "      <td>New Delhi</td>\n",
       "      <td>5.46</td>\n",
       "      <td>1225.0</td>\n",
       "      <td>1215.0</td>\n",
       "    </tr>\n",
       "    <tr>\n",
       "      <th>NW</th>\n",
       "      <td>Norway</td>\n",
       "      <td>Olso</td>\n",
       "      <td>5.67</td>\n",
       "      <td>80.6</td>\n",
       "      <td>70.6</td>\n",
       "    </tr>\n",
       "  </tbody>\n",
       "</table>\n",
       "</div>"
      ],
      "text/plain": [
       "    country    capital   area  population  new_col\n",
       "BR   Brazil   Brasilia   8.90       200.4    190.4\n",
       "RU   Russia     Moscow  14.60       147.5    137.5\n",
       "GR  Germany     Berlin   5.60        60.5     50.5\n",
       "IN    India  New Delhi   5.46      1225.0   1215.0\n",
       "NW   Norway       Olso   5.67        80.6     70.6"
      ]
     },
     "execution_count": 9,
     "metadata": {},
     "output_type": "execute_result"
    }
   ],
   "source": [
    "for lab,row in brics.iterrows():\n",
    "    \n",
    "    brics.loc[lab,\"new_col\"]=row['population']-10\n",
    "brics"
   ]
  },
  {
   "cell_type": "code",
   "execution_count": 11,
   "id": "76a0371a",
   "metadata": {},
   "outputs": [
    {
     "data": {
      "text/html": [
       "<div>\n",
       "<style scoped>\n",
       "    .dataframe tbody tr th:only-of-type {\n",
       "        vertical-align: middle;\n",
       "    }\n",
       "\n",
       "    .dataframe tbody tr th {\n",
       "        vertical-align: top;\n",
       "    }\n",
       "\n",
       "    .dataframe thead th {\n",
       "        text-align: right;\n",
       "    }\n",
       "</style>\n",
       "<table border=\"1\" class=\"dataframe\">\n",
       "  <thead>\n",
       "    <tr style=\"text-align: right;\">\n",
       "      <th></th>\n",
       "      <th>country</th>\n",
       "      <th>capital</th>\n",
       "      <th>area</th>\n",
       "      <th>population</th>\n",
       "      <th>new_col</th>\n",
       "      <th>new_col2</th>\n",
       "    </tr>\n",
       "  </thead>\n",
       "  <tbody>\n",
       "    <tr>\n",
       "      <th>BR</th>\n",
       "      <td>Brazil</td>\n",
       "      <td>Brasilia</td>\n",
       "      <td>8.90</td>\n",
       "      <td>200.4</td>\n",
       "      <td>190.4</td>\n",
       "      <td>17.80</td>\n",
       "    </tr>\n",
       "    <tr>\n",
       "      <th>RU</th>\n",
       "      <td>Russia</td>\n",
       "      <td>Moscow</td>\n",
       "      <td>14.60</td>\n",
       "      <td>147.5</td>\n",
       "      <td>137.5</td>\n",
       "      <td>29.20</td>\n",
       "    </tr>\n",
       "    <tr>\n",
       "      <th>GR</th>\n",
       "      <td>Germany</td>\n",
       "      <td>Berlin</td>\n",
       "      <td>5.60</td>\n",
       "      <td>60.5</td>\n",
       "      <td>50.5</td>\n",
       "      <td>11.20</td>\n",
       "    </tr>\n",
       "    <tr>\n",
       "      <th>IN</th>\n",
       "      <td>India</td>\n",
       "      <td>New Delhi</td>\n",
       "      <td>5.46</td>\n",
       "      <td>1225.0</td>\n",
       "      <td>1215.0</td>\n",
       "      <td>10.92</td>\n",
       "    </tr>\n",
       "    <tr>\n",
       "      <th>NW</th>\n",
       "      <td>Norway</td>\n",
       "      <td>Olso</td>\n",
       "      <td>5.67</td>\n",
       "      <td>80.6</td>\n",
       "      <td>70.6</td>\n",
       "      <td>11.34</td>\n",
       "    </tr>\n",
       "  </tbody>\n",
       "</table>\n",
       "</div>"
      ],
      "text/plain": [
       "    country    capital   area  population  new_col  new_col2\n",
       "BR   Brazil   Brasilia   8.90       200.4    190.4     17.80\n",
       "RU   Russia     Moscow  14.60       147.5    137.5     29.20\n",
       "GR  Germany     Berlin   5.60        60.5     50.5     11.20\n",
       "IN    India  New Delhi   5.46      1225.0   1215.0     10.92\n",
       "NW   Norway       Olso   5.67        80.6     70.6     11.34"
      ]
     },
     "execution_count": 11,
     "metadata": {},
     "output_type": "execute_result"
    }
   ],
   "source": [
    "brics['new_col2']=brics['area'].apply(lambda x: x*2)\n",
    "brics"
   ]
  },
  {
   "cell_type": "code",
   "execution_count": null,
   "id": "eebb40d2",
   "metadata": {},
   "outputs": [],
   "source": []
  }
 ],
 "metadata": {
  "kernelspec": {
   "display_name": "Python 3 (ipykernel)",
   "language": "python",
   "name": "python3"
  },
  "language_info": {
   "codemirror_mode": {
    "name": "ipython",
    "version": 3
   },
   "file_extension": ".py",
   "mimetype": "text/x-python",
   "name": "python",
   "nbconvert_exporter": "python",
   "pygments_lexer": "ipython3",
   "version": "3.11.5"
  }
 },
 "nbformat": 4,
 "nbformat_minor": 5
}
